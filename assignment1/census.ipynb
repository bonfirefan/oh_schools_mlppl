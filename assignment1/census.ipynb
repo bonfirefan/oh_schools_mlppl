{
 "cells": [
  {
   "cell_type": "code",
   "execution_count": 34,
   "metadata": {},
   "outputs": [],
   "source": [
    "import censusdata\n",
    "import pandas as pd\n",
    "import numpy as np"
   ]
  },
  {
   "cell_type": "code",
   "execution_count": 35,
   "metadata": {},
   "outputs": [],
   "source": [
    "#function to make list of all county ids in state (given by census state id)\n",
    "def county_list(state_number):\n",
    "    counties = censusdata.geographies(censusdata.censusgeo([('state', state_number), ('county','*')]), 'acs5', 2018)\n",
    "    county_list = []\n",
    "    for i in counties.keys():\n",
    "        county_list.append(counties[i].geo[1][1])\n",
    "    return county_list\n",
    "\n",
    "#function to pull defined variables for blocks in specified state, looping over counties (can't pull all blocks in a state)\n",
    "#(input state id and list of variables)\n",
    "def block_pull(state_id, variable_list):\n",
    "    c_list = county_list(state_id)\n",
    "    for i in range(0, len(c_list)):\n",
    "        geo = censusdata.censusgeo([('state', state_id), ('county', c_list[i]), ('tract','*'),('block group','*')])\n",
    "        county_df = censusdata.download('acs5', 2018, geo, variable_list)\n",
    "        if i == 0:\n",
    "            data = county_df\n",
    "        else:\n",
    "            data = pd.concat([data, county_df])\n",
    "    return data"
   ]
  },
  {
   "cell_type": "code",
   "execution_count": null,
   "metadata": {},
   "outputs": [],
   "source": [
    "#just one variable in here for now, need to select and add variables\n",
    "variables_list = ['B02001_001E','B02001_002E','B02001_003E','B02001_004E','B02001_005E','B02001_006E','B02001_007E',\n",
    "                  'B02001_008E','B28006_001E','B28006_002E','B28006_008E','B28006_014E','B19013_001E','B17010_002E',\n",
    "                  'B17010_001E','C16002_001E','C16002_004E','C16002_010E','C16002_013E','B03002_001E','B03002_012E']\n",
    "\n",
    "block_data = block_pull('39', variables_list)"
   ]
  },
  {
   "cell_type": "code",
   "execution_count": null,
   "metadata": {},
   "outputs": [],
   "source": [
    "#make more meaningful variables, ie turn raw counts into proportions, etc.\n",
    "\n",
    "#make % white column\n",
    "block_data['PCT_White'] = block_data['B02001_002E']/block_data['B02001_001E']\n",
    "#make % black and african american\n",
    "block_data['PCT_Black_or_AA'] = block_data['B02001_003E']/block_data['B02001_002E']\n",
    "#make % Asian column\n",
    "block_data['PCT_Asian'] = block_data['B02001_005E']/block_data['B02001_002E']\n",
    "#make % Hispanic/Latino\n",
    "block_data['PCT_Hispanic_Latino'] = block_data['B03002_012E']/block_data['B03002_001E']\n",
    "#make % Less than high school education\n",
    "block_data['PCT_Less_Than_High_School'] = block_data['B28006_002E']/block_data['B28006_001E']\n",
    "#make % high school no college\n",
    "block_data['PCT_High_School_Grad'] = block_data['B28006_008E']/block_data['B28006_001E']\n",
    "#make % bachelors or higher\n",
    "block_data['PCT_Bach_Or_Higher'] = block_data['B28006_014E']/block_data['B28006_001E']\n",
    "#Rename Median Income\n",
    "block_data['Median_Income'] = block_data['B19013_001E']\n",
    "#% Households w/ income below poverty line in last 12 months\n",
    "block_data['PCT_Households_Poverty'] = block_data['B17010_002E']/block_data['B17010_001E']\n",
    "#% households limited english spoken\n",
    "block_data['PCT_Households_Limited_English'] = (block_data['C16002_004E']+block_data['C16002_010E']+block_data['C16002_013E'])/block_data['C16002_001E']\n",
    "\n",
    "#drop old columns\n",
    "block_data = block_data.drop(variables_list,axis=1)\n",
    "# get rid of inf values for upload\n",
    "block_data.replace([np.inf, -np.inf], np.nan)"
   ]
  },
  {
   "cell_type": "code",
   "execution_count": null,
   "metadata": {},
   "outputs": [],
   "source": [
    "block_data = block_data.replace([np.inf, -np.inf], np.nan)"
   ]
  },
  {
   "cell_type": "code",
   "execution_count": null,
   "metadata": {},
   "outputs": [],
   "source": [
    "# SAVE DATA, INDEX IS JUST FOR TESTING\n",
    "data = block_data\n",
    "data['index']=range(len(data))\n",
    "data.head()"
   ]
  },
  {
   "cell_type": "code",
   "execution_count": null,
   "metadata": {},
   "outputs": [],
   "source": [
    "data.to_csv('test.csv', index=False)"
   ]
  }
 ],
 "metadata": {
  "kernelspec": {
   "display_name": "Python 3",
   "language": "python",
   "name": "python3"
  },
  "language_info": {
   "codemirror_mode": {
    "name": "ipython",
    "version": 3
   },
   "file_extension": ".py",
   "mimetype": "text/x-python",
   "name": "python",
   "nbconvert_exporter": "python",
   "pygments_lexer": "ipython3",
   "version": "3.6.0"
  }
 },
 "nbformat": 4,
 "nbformat_minor": 2
}
