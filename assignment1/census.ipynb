{
 "cells": [
  {
   "cell_type": "code",
   "execution_count": 1,
   "metadata": {},
   "outputs": [],
   "source": [
    "import censusdata\n",
    "import pandas as pd"
   ]
  },
  {
   "cell_type": "code",
   "execution_count": 2,
   "metadata": {},
   "outputs": [],
   "source": [
    "#function to make list of all county ids in state (given by census state id)\n",
    "def county_list(state_number):\n",
    "    counties = censusdata.geographies(censusdata.censusgeo([('state', state_number), ('county','*')]), 'acs5', 2018)\n",
    "    county_list = []\n",
    "    for i in counties.keys():\n",
    "        county_list.append(counties[i].geo[1][1])\n",
    "    return county_list\n",
    "\n",
    "#function to pull defined variables for blocks in specified state, looping over counties (can't pull all blocks in a state)\n",
    "#(input state id and list of variables)\n",
    "def block_pull(state_id, variable_list):\n",
    "    c_list = county_list(state_id)\n",
    "    for i in range(0, len(c_list)):\n",
    "        geo = censusdata.censusgeo([('state', state_id), ('county', c_list[i]), ('tract','*'),('block group','*')])\n",
    "        county_df = censusdata.download('acs5', 2018, geo, variable_list)\n",
    "        if i == 0:\n",
    "            data = county_df\n",
    "        else:\n",
    "            data = pd.concat([data, county_df])\n",
    "    return data"
   ]
  },
  {
   "cell_type": "code",
   "execution_count": 3,
   "metadata": {},
   "outputs": [],
   "source": [
    "#just one variable in here for now, need to select and add variables\n",
    "variables_list = ['B02001_001E']\n",
    "\n",
    "block_data = block_pull('39', variables_list)"
   ]
  },
  {
   "cell_type": "code",
   "execution_count": 12,
   "metadata": {},
   "outputs": [
    {
     "data": {
      "text/html": [
       "<div>\n",
       "<style scoped>\n",
       "    .dataframe tbody tr th:only-of-type {\n",
       "        vertical-align: middle;\n",
       "    }\n",
       "\n",
       "    .dataframe tbody tr th {\n",
       "        vertical-align: top;\n",
       "    }\n",
       "\n",
       "    .dataframe thead th {\n",
       "        text-align: right;\n",
       "    }\n",
       "</style>\n",
       "<table border=\"1\" class=\"dataframe\">\n",
       "  <thead>\n",
       "    <tr style=\"text-align: right;\">\n",
       "      <th></th>\n",
       "      <th>B02001_001E</th>\n",
       "      <th>index</th>\n",
       "    </tr>\n",
       "  </thead>\n",
       "  <tbody>\n",
       "    <tr>\n",
       "      <th>Block Group 3, Census Tract 9540, Gallia County, Ohio: Summary level: 150, state:39&gt; county:053&gt; tract:954000&gt; block group:3</th>\n",
       "      <td>1348</td>\n",
       "      <td>0</td>\n",
       "    </tr>\n",
       "    <tr>\n",
       "      <th>Block Group 2, Census Tract 9540, Gallia County, Ohio: Summary level: 150, state:39&gt; county:053&gt; tract:954000&gt; block group:2</th>\n",
       "      <td>621</td>\n",
       "      <td>1</td>\n",
       "    </tr>\n",
       "    <tr>\n",
       "      <th>Block Group 1, Census Tract 9540, Gallia County, Ohio: Summary level: 150, state:39&gt; county:053&gt; tract:954000&gt; block group:1</th>\n",
       "      <td>1125</td>\n",
       "      <td>2</td>\n",
       "    </tr>\n",
       "    <tr>\n",
       "      <th>Block Group 2, Census Tract 9539, Gallia County, Ohio: Summary level: 150, state:39&gt; county:053&gt; tract:953900&gt; block group:2</th>\n",
       "      <td>1640</td>\n",
       "      <td>3</td>\n",
       "    </tr>\n",
       "    <tr>\n",
       "      <th>Block Group 1, Census Tract 9539, Gallia County, Ohio: Summary level: 150, state:39&gt; county:053&gt; tract:953900&gt; block group:1</th>\n",
       "      <td>906</td>\n",
       "      <td>4</td>\n",
       "    </tr>\n",
       "  </tbody>\n",
       "</table>\n",
       "</div>"
      ],
      "text/plain": [
       "                                                    B02001_001E  index\n",
       "Block Group 3, Census Tract 9540, Gallia County...         1348      0\n",
       "Block Group 2, Census Tract 9540, Gallia County...          621      1\n",
       "Block Group 1, Census Tract 9540, Gallia County...         1125      2\n",
       "Block Group 2, Census Tract 9539, Gallia County...         1640      3\n",
       "Block Group 1, Census Tract 9539, Gallia County...          906      4"
      ]
     },
     "execution_count": 12,
     "metadata": {},
     "output_type": "execute_result"
    }
   ],
   "source": [
    "# SAVE DATA, INDEX IS JUST FOR TESTING\n",
    "data = block_data\n",
    "data['index']=range(len(data))\n",
    "data.head()"
   ]
  },
  {
   "cell_type": "code",
   "execution_count": 13,
   "metadata": {},
   "outputs": [],
   "source": [
    "data.to_csv('test.csv', index=False)"
   ]
  },
  {
   "cell_type": "code",
   "execution_count": null,
   "metadata": {},
   "outputs": [],
   "source": []
  }
 ],
 "metadata": {
  "kernelspec": {
   "display_name": "Python 3",
   "language": "python",
   "name": "python3"
  },
  "language_info": {
   "codemirror_mode": {
    "name": "ipython",
    "version": 3
   },
   "file_extension": ".py",
   "mimetype": "text/x-python",
   "name": "python",
   "nbconvert_exporter": "python",
   "pygments_lexer": "ipython3",
   "version": "3.6.10"
  }
 },
 "nbformat": 4,
 "nbformat_minor": 2
}
