{
 "cells": [
  {
   "cell_type": "code",
   "execution_count": null,
   "metadata": {},
   "outputs": [],
   "source": [
    "import psycopg2\n",
    "import sys\n",
    "import pandas as pd"
   ]
  },
  {
   "cell_type": "code",
   "execution_count": null,
   "metadata": {},
   "outputs": [],
   "source": [
    "conn_string = \"host='localhost' dbname='test'\"\n",
    "\n",
    "# print the connection string we will use to connect\n",
    "print(\"Connecting to database\\n\t{0}\".format(conn_string))\n",
    "\n",
    "# get a connection, if a connect cannot be made an exception will be raised here\n",
    "conn = psycopg2.connect(conn_string)\n",
    "\n",
    "# conn.cursor will return a cursor object, you can use this cursor to perform queries\n",
    "cursor = conn.cursor()\n",
    "print(\"Connected!\\n\")"
   ]
  },
  {
   "cell_type": "code",
   "execution_count": null,
   "metadata": {},
   "outputs": [],
   "source": [
    "# Reads data from file\n",
    "data = pd.read_csv('test.csv')\n",
    "data.head()"
   ]
  },
  {
   "cell_type": "code",
   "execution_count": null,
   "metadata": {},
   "outputs": [],
   "source": [
    "# FUNCTION TO CREATE TABLE IN POSTGRES BASED ON PANDAS DF.\n",
    "# MISSING PRIMARY KEY (PROBABLY FIRST VAR BY DEFAULT?)\n",
    "def create_table(table_name, data):\n",
    "    query = \"CREATE TABLE IF NOT EXISTS {} (\".format(table_name)\n",
    "    for i, col in enumerate(data.columns):\n",
    "        col_type=data.dtypes[i]\n",
    "        # MORE TYPES, RAISE ERROR\n",
    "        if col_type == 'O':\n",
    "            postgres_type = 'VARCHAR'\n",
    "        elif col_type == 'int64':\n",
    "            postgres_type = 'INT'\n",
    "        string_var = \"{} {} NOT NULL\".format(col, postgres_type)\n",
    "        \n",
    "        if i==0:# Very ugly code (well, all the function is ugly but it works)\n",
    "            query = query + string_var\n",
    "        else:\n",
    "            query = query + \", \" + string_var\n",
    "    query = query + \")\"\n",
    "    \n",
    "    cursor.execute(query)\n",
    "    conn.commit()"
   ]
  },
  {
   "cell_type": "code",
   "execution_count": null,
   "metadata": {},
   "outputs": [],
   "source": [
    "def upload_data(table_name, file_path):\n",
    "    f = open(file_path, 'r')\n",
    "    next(f)\n",
    "    cursor.copy_from(f, table_name, sep=',')\n",
    "    f.close()\n",
    "    conn.commit()"
   ]
  },
  {
   "cell_type": "code",
   "execution_count": null,
   "metadata": {},
   "outputs": [],
   "source": [
    "create_table('census_test', data)"
   ]
  },
  {
   "cell_type": "code",
   "execution_count": null,
   "metadata": {},
   "outputs": [],
   "source": [
    "upload_data('census_test', 'test.csv')"
   ]
  },
  {
   "cell_type": "code",
   "execution_count": null,
   "metadata": {},
   "outputs": [],
   "source": [
    "# CHECK\n",
    "cursor.execute(\"SELECT * from census_test;\")\n",
    "cursor.fetchall()"
   ]
  },
  {
   "cell_type": "code",
   "execution_count": null,
   "metadata": {},
   "outputs": [],
   "source": []
  }
 ],
 "metadata": {
  "kernelspec": {
   "display_name": "assignment1",
   "language": "python",
   "name": "assignment1"
  },
  "language_info": {
   "codemirror_mode": {
    "name": "ipython",
    "version": 3
   },
   "file_extension": ".py",
   "mimetype": "text/x-python",
   "name": "python",
   "nbconvert_exporter": "python",
   "pygments_lexer": "ipython3",
   "version": "3.6.10"
  }
 },
 "nbformat": 4,
 "nbformat_minor": 4
}
