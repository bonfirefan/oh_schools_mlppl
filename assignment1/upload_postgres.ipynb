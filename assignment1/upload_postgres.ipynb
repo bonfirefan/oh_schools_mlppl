{
 "cells": [
  {
   "cell_type": "code",
   "execution_count": 15,
   "metadata": {},
   "outputs": [],
   "source": [
    "import psycopg2\n",
    "import sys\n",
    "import pandas as pd\n",
    "import argparse"
   ]
  },
  {
   "cell_type": "code",
   "execution_count": 16,
   "metadata": {},
   "outputs": [
    {
     "data": {
      "text/plain": [
       "_StoreAction(option_strings=['--password'], dest='password', nargs=None, const=None, default=None, type=<class 'str'>, choices=None, help=None, metavar=None)"
      ]
     },
     "execution_count": 16,
     "metadata": {},
     "output_type": "execute_result"
    }
   ],
   "source": [
    "parser = argparse.ArgumentParser()\n",
    "parser.add_argument('--file_path', type=str)\n",
    "parser.add_argument('--sch_name', type=str)\n",
    "parser.add_argument('--tb_name', type=str)\n",
    "parser.add_argument('--user', type=str)\n",
    "parser.add_argument('--password', type=str)"
   ]
  },
  {
   "cell_type": "code",
   "execution_count": 17,
   "metadata": {},
   "outputs": [],
   "source": [
    "# Creates schema\n",
    "def create_schema(sch_name, tb_name, cursor, conn):\n",
    "    query=\"CREATE SCHEMA IF NOT EXISTS {0}; DROP TABLE IF EXISTS {0}.{1};\".format(sch_name, tb_name)\n",
    "    cursor.execute(query)\n",
    "    conn.commit()\n"
   ]
  },
  {
   "cell_type": "code",
   "execution_count": 25,
   "metadata": {},
   "outputs": [],
   "source": [
    "# Creates table based on csv\n",
    "def create_table(sch_name, tb_name, data, cursor, conn):\n",
    "    query = \"CREATE TABLE IF NOT EXISTS {}.{} ( pk VARCHAR PRIMARY KEY, \".format(sch_name, tb_name)\n",
    "    data_columns = [col for col in data.columns if col != 'pk']\n",
    "    for i, col in enumerate(data_columns):\n",
    "        # Columns\n",
    "        col_type=data.dtypes[i+1]\n",
    "        if col_type == 'int64':\n",
    "            postgres_type = 'INT'\n",
    "        elif col_type == 'float64':\n",
    "            postgres_type = 'NUMERIC'\n",
    "        else:\n",
    "            postgres_type = 'VARCHAR'\n",
    "        string_var = \"{} {} NULL\".format(col, postgres_type)\n",
    "        \n",
    "        if i==0:\n",
    "            query = query + string_var\n",
    "        else:\n",
    "            query = query + \", \" + string_var\n",
    "    query = query + \")\"\n",
    "    \n",
    "    cursor.execute(query)\n",
    "    conn.commit()"
   ]
  },
  {
   "cell_type": "code",
   "execution_count": 19,
   "metadata": {},
   "outputs": [],
   "source": [
    "# Upload data\n",
    "def upload_data(sch_name, tb_name, file_path, cursor, conn):\n",
    "    table = \"{}.{}\".format(sch_name, tb_name)\n",
    "    f = open(file_path, 'r')\n",
    "    next(f) # skips header\n",
    "    cursor.copy_from(f, table, sep=',', null='None')\n",
    "    f.close()\n",
    "    conn.commit()"
   ]
  },
  {
   "cell_type": "code",
   "execution_count": 20,
   "metadata": {},
   "outputs": [],
   "source": [
    "def main(user, password, file_path, sch_name, tb_name):\n",
    "    conn_string = \"host='localhost' dbname='postgres' user='{}' password='{}'\".format(user, password)\n",
    "    print(\"Connecting to database\\n     {0}\".format(conn_string))\n",
    "\n",
    "    conn = psycopg2.connect(conn_string)\n",
    "    cursor = conn.cursor()\n",
    "    print(\"Connected!\\n\")\n",
    "\n",
    "    # Reads data from file\n",
    "    print(\"Reading data...\")\n",
    "    data = pd.read_csv(file_path)\n",
    "\n",
    "    # Create/check schrma\n",
    "    print(\"Creating schema...\")\n",
    "    create_schema(sch_name=sch_name, tb_name=tb_name, cursor=cursor, conn=conn)\n",
    "\n",
    "    # Create data\n",
    "    print(\"Creating table...\")\n",
    "    create_table(sch_name=sch_name, tb_name=tb_name, data=data, cursor=cursor, conn=conn)\n",
    "\n",
    "    # Upload data\n",
    "    print(\"Uploading data...\")\n",
    "    upload_data(sch_name=sch_name, tb_name=tb_name, file_path=file_path, cursor=cursor, conn=conn)"
   ]
  },
  {
   "cell_type": "code",
   "execution_count": 26,
   "metadata": {},
   "outputs": [
    {
     "name": "stdout",
     "output_type": "stream",
     "text": [
      "Connecting to database\n",
      "     host='localhost' dbname='postgres' user='postgres' password='dummy'\n",
      "Connected!\n",
      "\n",
      "Reading data...\n",
      "Creating schema...\n",
      "Creating table...\n",
      "Uploading data...\n"
     ]
    }
   ],
   "source": [
    "#args = parser.parse_args()\n",
    "main(user='postgres', password='dummy', sch_name = 'census_test', tb_name='census_oh', file_path = 'data.csv')"
   ]
  },
  {
   "cell_type": "code",
   "execution_count": 28,
   "metadata": {},
   "outputs": [
    {
     "ename": "InFailedSqlTransaction",
     "evalue": "current transaction is aborted, commands ignored until end of transaction block\n",
     "output_type": "error",
     "traceback": [
      "\u001b[1;31m---------------------------------------------------------------------------\u001b[0m",
      "\u001b[1;31mInFailedSqlTransaction\u001b[0m                    Traceback (most recent call last)",
      "\u001b[1;32m<ipython-input-28-375a383a02d6>\u001b[0m in \u001b[0;36m<module>\u001b[1;34m\u001b[0m\n\u001b[0;32m      1\u001b[0m \u001b[1;31m# CHECK\u001b[0m\u001b[1;33m\u001b[0m\u001b[1;33m\u001b[0m\u001b[0m\n\u001b[1;32m----> 2\u001b[1;33m \u001b[0mcursor\u001b[0m\u001b[1;33m.\u001b[0m\u001b[0mexecute\u001b[0m\u001b[1;33m(\u001b[0m\u001b[1;34m\"SELECT * from census_test.census_oh;\"\u001b[0m\u001b[1;33m)\u001b[0m\u001b[1;33m\u001b[0m\u001b[0m\n\u001b[0m\u001b[0;32m      3\u001b[0m \u001b[0mcursor\u001b[0m\u001b[1;33m.\u001b[0m\u001b[0mfetchall\u001b[0m\u001b[1;33m(\u001b[0m\u001b[1;33m)\u001b[0m\u001b[1;33m\u001b[0m\u001b[0m\n",
      "\u001b[1;31mInFailedSqlTransaction\u001b[0m: current transaction is aborted, commands ignored until end of transaction block\n"
     ]
    }
   ],
   "source": [
    "# CHECK\n",
    "conn_string = \"host='l{ocalhost' dbname='postgres' user='{}' password='{}'\".format(user, password)\n",
    "print(\"Connecting to database\\n     {0}\".format(conn_string))\n",
    "\n",
    "conn = psycopg2.connect(conn_string)\n",
    "cursor = conn.cursor()}\n",
    "cursor.execute(\"SELECT * from census_test.census_oh;\")\n",
    "cursor.fetchall()"
   ]
  },
  {
   "cell_type": "code",
   "execution_count": null,
   "metadata": {},
   "outputs": [],
   "source": []
  }
 ],
 "metadata": {
  "kernelspec": {
   "display_name": "Python 3",
   "language": "python",
   "name": "python3"
  },
  "language_info": {
   "codemirror_mode": {
    "name": "ipython",
    "version": 3
   },
   "file_extension": ".py",
   "mimetype": "text/x-python",
   "name": "python",
   "nbconvert_exporter": "python",
   "pygments_lexer": "ipython3",
   "version": "3.6.0"
  }
 },
 "nbformat": 4,
 "nbformat_minor": 4
}
