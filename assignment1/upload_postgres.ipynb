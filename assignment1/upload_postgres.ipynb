{
 "cells": [
  {
   "cell_type": "code",
   "execution_count": 1,
   "metadata": {},
   "outputs": [],
   "source": [
    "import psycopg2\n",
    "import sys\n",
    "import pandas as pd"
   ]
  },
  {
   "cell_type": "code",
   "execution_count": 3,
   "metadata": {},
   "outputs": [
    {
     "name": "stdout",
     "output_type": "stream",
     "text": [
      "Connecting to database\n",
      "\thost='localhost' dbname='postgres' user='postgres' password='dummy'\n",
      "Connected!\n",
      "\n"
     ]
    }
   ],
   "source": [
    "def connect_db():\n",
    "    #Define our connection string\n",
    "    conn_string = \"host='localhost' dbname='postgres' user='postgres' password='dummy'\"\n",
    "\n",
    "    # print the connection string we will use to connect\n",
    "    print(\"Connecting to database\\n\t{0}\".format(conn_string))\n",
    "\n",
    "    # get a connection, if a connect cannot be made an exception will be raised here\n",
    "    conn = psycopg2.connect(conn_string)\n",
    "\n",
    "    # conn.cursor will return a cursor object, you can use this cursor to perform queries\n",
    "    cursor = conn.cursor()\n",
    "    print(\"Connected!\\n\")\n",
    "\n",
    "connect_db()"
   ]
  },
  {
   "cell_type": "code",
   "execution_count": 4,
   "metadata": {},
   "outputs": [
    {
     "data": {
      "text/html": [
       "<div>\n",
       "<style scoped>\n",
       "    .dataframe tbody tr th:only-of-type {\n",
       "        vertical-align: middle;\n",
       "    }\n",
       "\n",
       "    .dataframe tbody tr th {\n",
       "        vertical-align: top;\n",
       "    }\n",
       "\n",
       "    .dataframe thead th {\n",
       "        text-align: right;\n",
       "    }\n",
       "</style>\n",
       "<table border=\"1\" class=\"dataframe\">\n",
       "  <thead>\n",
       "    <tr style=\"text-align: right;\">\n",
       "      <th></th>\n",
       "      <th>PCT_White</th>\n",
       "      <th>PCT_Black_or_AA</th>\n",
       "      <th>PCT_Asian</th>\n",
       "      <th>PCT_Hispanic_Latino</th>\n",
       "      <th>PCT_Less_Than_High_School</th>\n",
       "      <th>PCT_High_School_Grad</th>\n",
       "      <th>PCT_Bach_Or_Higher</th>\n",
       "      <th>Median_Income</th>\n",
       "      <th>PCT_Households_Poverty</th>\n",
       "      <th>PCT_Households_Limited_English</th>\n",
       "      <th>index</th>\n",
       "    </tr>\n",
       "  </thead>\n",
       "  <tbody>\n",
       "    <tr>\n",
       "      <th>0</th>\n",
       "      <td>0.849407</td>\n",
       "      <td>0.083843</td>\n",
       "      <td>0.071616</td>\n",
       "      <td>0.02003</td>\n",
       "      <td>0.114222</td>\n",
       "      <td>0.599104</td>\n",
       "      <td>0.286674</td>\n",
       "      <td>40563</td>\n",
       "      <td>0.153846</td>\n",
       "      <td>0.0</td>\n",
       "      <td>0</td>\n",
       "    </tr>\n",
       "    <tr>\n",
       "      <th>1</th>\n",
       "      <td>0.971014</td>\n",
       "      <td>0.029851</td>\n",
       "      <td>0.000000</td>\n",
       "      <td>0.00000</td>\n",
       "      <td>0.201900</td>\n",
       "      <td>0.776722</td>\n",
       "      <td>0.021378</td>\n",
       "      <td>32045</td>\n",
       "      <td>0.534161</td>\n",
       "      <td>0.0</td>\n",
       "      <td>1</td>\n",
       "    </tr>\n",
       "    <tr>\n",
       "      <th>2</th>\n",
       "      <td>0.976000</td>\n",
       "      <td>0.000000</td>\n",
       "      <td>0.024590</td>\n",
       "      <td>0.00000</td>\n",
       "      <td>0.281167</td>\n",
       "      <td>0.527851</td>\n",
       "      <td>0.190981</td>\n",
       "      <td>44167</td>\n",
       "      <td>0.141914</td>\n",
       "      <td>0.0</td>\n",
       "      <td>2</td>\n",
       "    </tr>\n",
       "    <tr>\n",
       "      <th>3</th>\n",
       "      <td>0.933537</td>\n",
       "      <td>0.010451</td>\n",
       "      <td>0.000000</td>\n",
       "      <td>0.00000</td>\n",
       "      <td>0.063559</td>\n",
       "      <td>0.731992</td>\n",
       "      <td>0.204449</td>\n",
       "      <td>36759</td>\n",
       "      <td>0.233990</td>\n",
       "      <td>0.0</td>\n",
       "      <td>3</td>\n",
       "    </tr>\n",
       "    <tr>\n",
       "      <th>4</th>\n",
       "      <td>0.926049</td>\n",
       "      <td>0.079857</td>\n",
       "      <td>0.000000</td>\n",
       "      <td>0.00000</td>\n",
       "      <td>0.173184</td>\n",
       "      <td>0.702514</td>\n",
       "      <td>0.124302</td>\n",
       "      <td>49100</td>\n",
       "      <td>0.364000</td>\n",
       "      <td>0.0</td>\n",
       "      <td>4</td>\n",
       "    </tr>\n",
       "  </tbody>\n",
       "</table>\n",
       "</div>"
      ],
      "text/plain": [
       "   PCT_White  PCT_Black_or_AA  PCT_Asian  PCT_Hispanic_Latino  \\\n",
       "0   0.849407         0.083843   0.071616              0.02003   \n",
       "1   0.971014         0.029851   0.000000              0.00000   \n",
       "2   0.976000         0.000000   0.024590              0.00000   \n",
       "3   0.933537         0.010451   0.000000              0.00000   \n",
       "4   0.926049         0.079857   0.000000              0.00000   \n",
       "\n",
       "   PCT_Less_Than_High_School  PCT_High_School_Grad  PCT_Bach_Or_Higher  \\\n",
       "0                   0.114222              0.599104            0.286674   \n",
       "1                   0.201900              0.776722            0.021378   \n",
       "2                   0.281167              0.527851            0.190981   \n",
       "3                   0.063559              0.731992            0.204449   \n",
       "4                   0.173184              0.702514            0.124302   \n",
       "\n",
       "   Median_Income  PCT_Households_Poverty  PCT_Households_Limited_English  \\\n",
       "0          40563                0.153846                             0.0   \n",
       "1          32045                0.534161                             0.0   \n",
       "2          44167                0.141914                             0.0   \n",
       "3          36759                0.233990                             0.0   \n",
       "4          49100                0.364000                             0.0   \n",
       "\n",
       "   index  \n",
       "0      0  \n",
       "1      1  \n",
       "2      2  \n",
       "3      3  \n",
       "4      4  "
      ]
     },
     "execution_count": 4,
     "metadata": {},
     "output_type": "execute_result"
    }
   ],
   "source": [
    "# Reads data from file\n",
    "data = pd.read_csv('test.csv')\n",
    "data.head()"
   ]
  },
  {
   "cell_type": "code",
   "execution_count": null,
   "metadata": {},
   "outputs": [],
   "source": [
    "# FUNCTION TO CREATE TABLE IN POSTGRES BASED ON PANDAS DF.\n",
    "# MISSING PRIMARY KEY (PROBABLY FIRST VAR BY DEFAULT?)\n",
    "def create_table(table_name, data):\n",
    "    query = \"CREATE TABLE IF NOT EXISTS {} (\".format(table_name)\n",
    "    for i, col in enumerate(data.columns):\n",
    "        col_type=data.dtypes[i]\n",
    "        # MORE TYPES, RAISE ERROR\n",
    "        if col_type == 'O':\n",
    "            postgres_type = 'VARCHAR'\n",
    "        elif col_type == 'int64':\n",
    "            postgres_type = 'INT'\n",
    "        string_var = \"{} {} NOT NULL\".format(col, postgres_type)\n",
    "        \n",
    "        if i==0:# Very ugly code (well, all the function is ugly but it works)\n",
    "            query = query + string_var\n",
    "        else:\n",
    "            query = query + \", \" + string_var\n",
    "    query = query + \")\"\n",
    "    \n",
    "    cursor.execute(query)\n",
    "    conn.commit()"
   ]
  },
  {
   "cell_type": "code",
   "execution_count": null,
   "metadata": {},
   "outputs": [],
   "source": [
    "def upload_data(table_name, file_path):\n",
    "    f = open(file_path, 'r')\n",
    "    next(f)\n",
    "    cursor.copy_from(f, table_name, sep=',')\n",
    "    f.close()\n",
    "    conn.commit()"
   ]
  },
  {
   "cell_type": "code",
   "execution_count": null,
   "metadata": {},
   "outputs": [],
   "source": [
    "create_table('census_test', data)"
   ]
  },
  {
   "cell_type": "code",
   "execution_count": null,
   "metadata": {},
   "outputs": [],
   "source": [
    "upload_data('census_test', 'test.csv')"
   ]
  },
  {
   "cell_type": "code",
   "execution_count": null,
   "metadata": {},
   "outputs": [],
   "source": [
    "# CHECK\n",
    "cursor.execute(\"SELECT * from census_test;\")\n",
    "cursor.fetchall()"
   ]
  },
  {
   "cell_type": "code",
   "execution_count": null,
   "metadata": {},
   "outputs": [],
   "source": []
  }
 ],
 "metadata": {
  "kernelspec": {
   "display_name": "Python 3",
   "language": "python",
   "name": "python3"
  },
  "language_info": {
   "codemirror_mode": {
    "name": "ipython",
    "version": 3
   },
   "file_extension": ".py",
   "mimetype": "text/x-python",
   "name": "python",
   "nbconvert_exporter": "python",
   "pygments_lexer": "ipython3",
   "version": "3.6.0"
  }
 },
 "nbformat": 4,
 "nbformat_minor": 4
}
