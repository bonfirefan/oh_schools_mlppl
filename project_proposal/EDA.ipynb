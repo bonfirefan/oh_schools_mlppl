{
 "cells": [
  {
   "cell_type": "code",
   "execution_count": 1,
   "metadata": {},
   "outputs": [],
   "source": [
    "import psycopg2\n",
    "import sys\n",
    "import pandas as pd\n",
    "import pandas.io.sql as sqlio"
   ]
  },
  {
   "cell_type": "markdown",
   "metadata": {},
   "source": [
    "# Download"
   ]
  },
  {
   "cell_type": "code",
   "execution_count": 1,
   "metadata": {},
   "outputs": [],
   "source": [
    "def download_table(tb_name):\n",
    "    print('Downloading {} ...'.format(tb_name))\n",
    "    sql = \"select * from clean.{};\".format(tb_name)\n",
    "    return sqlio.read_sql_query(sql, conn)"
   ]
  },
  {
   "cell_type": "code",
   "execution_count": 10,
   "metadata": {},
   "outputs": [
    {
     "name": "stdout",
     "output_type": "stream",
     "text": [
      "Connecting to database\n",
      "\thost='localhost' dbname='o1_database' user='cchallu' password='chance syndrome smoked empathy catacomb outsell' port='8888'\n",
      "Connected!\n",
      "\n"
     ]
    }
   ],
   "source": [
    "#Define our connection string\n",
    "conn_string = \"host='localhost' dbname='o1_database' user='cchallu' password='XXX' port='8888'\"\n",
    "\n",
    "# print the connection string we will use to connect\n",
    "print(\"Connecting to database\\n\t{0}\".format(conn_string))\n",
    "\n",
    "# get a connection, if a connect cannot be made an exception will be raised here\n",
    "conn = psycopg2.connect(conn_string)\n",
    "\n",
    "# conn.cursor will return a cursor object, you can use this cursor to perform queries\n",
    "cursor = conn.cursor()\n",
    "print(\"Connected!\\n\")"
   ]
  },
  {
   "cell_type": "code",
   "execution_count": 11,
   "metadata": {},
   "outputs": [
    {
     "data": {
      "text/plain": [
       "['all_student_lookups',\n",
       " 'all_grades',\n",
       " 'all_absences',\n",
       " 'all_snapshots',\n",
       " 'high_school_gpa',\n",
       " 'intervention',\n",
       " 'oaaogt']"
      ]
     },
     "execution_count": 11,
     "metadata": {},
     "output_type": "execute_result"
    }
   ],
   "source": [
    "cursor.execute(\"\"\"SELECT table_name FROM information_schema.tables\n",
    "       WHERE table_schema = 'clean'\"\"\")\n",
    "tables = []\n",
    "for table in cursor.fetchall():\n",
    "    tables.append(table[0])\n",
    "tables    "
   ]
  },
  {
   "cell_type": "code",
   "execution_count": 12,
   "metadata": {},
   "outputs": [
    {
     "name": "stdout",
     "output_type": "stream",
     "text": [
      "Downloading all_student_lookups ...\n",
      "Downloading all_grades ...\n",
      "Downloading all_absences ...\n",
      "Downloading all_snapshots ...\n",
      "Downloading high_school_gpa ...\n",
      "Downloading intervention ...\n",
      "Downloading oaaogt ...\n"
     ]
    }
   ],
   "source": [
    "# Takes some time\n",
    "all_student_lookups = download_table(tables[0])\n",
    "all_grades = download_table(tables[1])\n",
    "all_absences = download_table(tables[2])\n",
    "all_snapshots = download_table(tables[3])\n",
    "high_school_gpa = download_table(tables[4])\n",
    "intervention = download_table(tables[5])\n",
    "oaaogt = download_table(tables[6])"
   ]
  },
  {
   "cell_type": "markdown",
   "metadata": {},
   "source": [
    "# Columns, heads, shapes, value_counts"
   ]
  },
  {
   "cell_type": "markdown",
   "metadata": {},
   "source": [
    "## Student lookups"
   ]
  },
  {
   "cell_type": "code",
   "execution_count": 14,
   "metadata": {},
   "outputs": [
    {
     "name": "stdout",
     "output_type": "stream",
     "text": [
      "Number of students:  61346\n"
     ]
    },
    {
     "data": {
      "text/html": [
       "<div>\n",
       "<style scoped>\n",
       "    .dataframe tbody tr th:only-of-type {\n",
       "        vertical-align: middle;\n",
       "    }\n",
       "\n",
       "    .dataframe tbody tr th {\n",
       "        vertical-align: top;\n",
       "    }\n",
       "\n",
       "    .dataframe thead th {\n",
       "        text-align: right;\n",
       "    }\n",
       "</style>\n",
       "<table border=\"1\" class=\"dataframe\">\n",
       "  <thead>\n",
       "    <tr style=\"text-align: right;\">\n",
       "      <th></th>\n",
       "      <th>student_lookup</th>\n",
       "    </tr>\n",
       "  </thead>\n",
       "  <tbody>\n",
       "    <tr>\n",
       "      <th>0</th>\n",
       "      <td>1.0</td>\n",
       "    </tr>\n",
       "    <tr>\n",
       "      <th>1</th>\n",
       "      <td>2.0</td>\n",
       "    </tr>\n",
       "    <tr>\n",
       "      <th>2</th>\n",
       "      <td>3.0</td>\n",
       "    </tr>\n",
       "    <tr>\n",
       "      <th>3</th>\n",
       "      <td>4.0</td>\n",
       "    </tr>\n",
       "    <tr>\n",
       "      <th>4</th>\n",
       "      <td>5.0</td>\n",
       "    </tr>\n",
       "  </tbody>\n",
       "</table>\n",
       "</div>"
      ],
      "text/plain": [
       "   student_lookup\n",
       "0             1.0\n",
       "1             2.0\n",
       "2             3.0\n",
       "3             4.0\n",
       "4             5.0"
      ]
     },
     "execution_count": 14,
     "metadata": {},
     "output_type": "execute_result"
    }
   ],
   "source": [
    "print('Number of students: ', len(all_student_lookups))\n",
    "all_student_lookups.head()"
   ]
  },
  {
   "cell_type": "markdown",
   "metadata": {},
   "source": [
    "## Grades"
   ]
  },
  {
   "cell_type": "code",
   "execution_count": 17,
   "metadata": {},
   "outputs": [
    {
     "data": {
      "text/plain": [
       "(5126624, 11)"
      ]
     },
     "execution_count": 17,
     "metadata": {},
     "output_type": "execute_result"
    }
   ],
   "source": [
    "all_grades.shape"
   ]
  },
  {
   "cell_type": "code",
   "execution_count": 21,
   "metadata": {},
   "outputs": [
    {
     "data": {
      "text/plain": [
       "Index(['student_lookup', 'course_code', 'course_name', 'grade', 'mark',\n",
       "       'school_year', 'term', 'term_type', 'district', 'clean_term',\n",
       "       'percent_of_year'],\n",
       "      dtype='object')"
      ]
     },
     "execution_count": 21,
     "metadata": {},
     "output_type": "execute_result"
    }
   ],
   "source": [
    "all_grades.columns"
   ]
  },
  {
   "cell_type": "code",
   "execution_count": 22,
   "metadata": {},
   "outputs": [
    {
     "data": {
      "text/html": [
       "<div>\n",
       "<style scoped>\n",
       "    .dataframe tbody tr th:only-of-type {\n",
       "        vertical-align: middle;\n",
       "    }\n",
       "\n",
       "    .dataframe tbody tr th {\n",
       "        vertical-align: top;\n",
       "    }\n",
       "\n",
       "    .dataframe thead th {\n",
       "        text-align: right;\n",
       "    }\n",
       "</style>\n",
       "<table border=\"1\" class=\"dataframe\">\n",
       "  <thead>\n",
       "    <tr style=\"text-align: right;\">\n",
       "      <th></th>\n",
       "      <th>student_lookup</th>\n",
       "      <th>course_code</th>\n",
       "      <th>course_name</th>\n",
       "      <th>grade</th>\n",
       "      <th>mark</th>\n",
       "      <th>school_year</th>\n",
       "      <th>term</th>\n",
       "      <th>term_type</th>\n",
       "      <th>district</th>\n",
       "      <th>clean_term</th>\n",
       "      <th>percent_of_year</th>\n",
       "    </tr>\n",
       "  </thead>\n",
       "  <tbody>\n",
       "    <tr>\n",
       "      <th>0</th>\n",
       "      <td>1</td>\n",
       "      <td>ART2</td>\n",
       "      <td>CON ART 2ND GRADE</td>\n",
       "      <td>2.0</td>\n",
       "      <td>S</td>\n",
       "      <td>2014</td>\n",
       "      <td>Final Year End</td>\n",
       "      <td>None</td>\n",
       "      <td>River</td>\n",
       "      <td>final</td>\n",
       "      <td>0.00</td>\n",
       "    </tr>\n",
       "    <tr>\n",
       "      <th>1</th>\n",
       "      <td>1</td>\n",
       "      <td>ART2</td>\n",
       "      <td>CON ART 2ND GRADE</td>\n",
       "      <td>2.0</td>\n",
       "      <td>S</td>\n",
       "      <td>2014</td>\n",
       "      <td>Quarter 2</td>\n",
       "      <td>None</td>\n",
       "      <td>River</td>\n",
       "      <td>quarter 2</td>\n",
       "      <td>0.25</td>\n",
       "    </tr>\n",
       "    <tr>\n",
       "      <th>2</th>\n",
       "      <td>1</td>\n",
       "      <td>ART2</td>\n",
       "      <td>CON ART 2ND GRADE</td>\n",
       "      <td>2.0</td>\n",
       "      <td>S</td>\n",
       "      <td>2014</td>\n",
       "      <td>Quarter 4</td>\n",
       "      <td>None</td>\n",
       "      <td>River</td>\n",
       "      <td>quarter 4</td>\n",
       "      <td>0.25</td>\n",
       "    </tr>\n",
       "    <tr>\n",
       "      <th>3</th>\n",
       "      <td>1</td>\n",
       "      <td>ART3</td>\n",
       "      <td>CON ART 3RD GRADE</td>\n",
       "      <td>3.0</td>\n",
       "      <td>O</td>\n",
       "      <td>2015</td>\n",
       "      <td>Final Year End</td>\n",
       "      <td>None</td>\n",
       "      <td>River</td>\n",
       "      <td>final</td>\n",
       "      <td>0.00</td>\n",
       "    </tr>\n",
       "    <tr>\n",
       "      <th>4</th>\n",
       "      <td>1</td>\n",
       "      <td>ART3</td>\n",
       "      <td>CON ART 3RD GRADE</td>\n",
       "      <td>3.0</td>\n",
       "      <td>O</td>\n",
       "      <td>2015</td>\n",
       "      <td>Quarter 2</td>\n",
       "      <td>None</td>\n",
       "      <td>River</td>\n",
       "      <td>quarter 2</td>\n",
       "      <td>0.25</td>\n",
       "    </tr>\n",
       "  </tbody>\n",
       "</table>\n",
       "</div>"
      ],
      "text/plain": [
       "   student_lookup course_code        course_name  grade mark  school_year  \\\n",
       "0               1        ART2  CON ART 2ND GRADE    2.0    S         2014   \n",
       "1               1        ART2  CON ART 2ND GRADE    2.0    S         2014   \n",
       "2               1        ART2  CON ART 2ND GRADE    2.0    S         2014   \n",
       "3               1        ART3  CON ART 3RD GRADE    3.0    O         2015   \n",
       "4               1        ART3  CON ART 3RD GRADE    3.0    O         2015   \n",
       "\n",
       "             term term_type district clean_term  percent_of_year  \n",
       "0  Final Year End      None    River      final             0.00  \n",
       "1       Quarter 2      None    River  quarter 2             0.25  \n",
       "2       Quarter 4      None    River  quarter 4             0.25  \n",
       "3  Final Year End      None    River      final             0.00  \n",
       "4       Quarter 2      None    River  quarter 2             0.25  "
      ]
     },
     "execution_count": 22,
     "metadata": {},
     "output_type": "execute_result"
    }
   ],
   "source": [
    "all_grades.head()"
   ]
  },
  {
   "cell_type": "code",
   "execution_count": 29,
   "metadata": {},
   "outputs": [
    {
     "data": {
      "text/plain": [
       "41551"
      ]
     },
     "execution_count": 29,
     "metadata": {},
     "output_type": "execute_result"
    }
   ],
   "source": [
    "all_grades.student_lookup.nunique()"
   ]
  },
  {
   "cell_type": "code",
   "execution_count": 26,
   "metadata": {},
   "outputs": [
    {
     "data": {
      "text/plain": [
       "array(['CON ART 2ND GRADE', 'CON ART 3RD GRADE', 'CON ART KDG', ...,\n",
       "       'French', '1st Grade Language Arts', 'SC-English 11 (1/4 credit)'],\n",
       "      dtype=object)"
      ]
     },
     "execution_count": 26,
     "metadata": {},
     "output_type": "execute_result"
    }
   ],
   "source": [
    "all_grades.course_name.unique()"
   ]
  },
  {
   "cell_type": "code",
   "execution_count": 27,
   "metadata": {},
   "outputs": [
    {
     "data": {
      "text/plain": [
       "7253"
      ]
     },
     "execution_count": 27,
     "metadata": {},
     "output_type": "execute_result"
    }
   ],
   "source": [
    "all_grades.course_name.nunique()"
   ]
  },
  {
   "cell_type": "code",
   "execution_count": 65,
   "metadata": {},
   "outputs": [
    {
     "data": {
      "text/plain": [
       " 9.0     548475\n",
       " 10.0    512959\n",
       " 8.0     504490\n",
       " 7.0     496180\n",
       " 6.0     381792\n",
       " 5.0     355875\n",
       " 11.0    355843\n",
       " 4.0     351827\n",
       " 3.0     342364\n",
       " 12.0    298699\n",
       " NaN     283832\n",
       " 2.0     256903\n",
       " 1.0     245085\n",
       " 0.0     191140\n",
       " 23.0      1149\n",
       "-1.0         11\n",
       "Name: grade, dtype: int64"
      ]
     },
     "execution_count": 65,
     "metadata": {},
     "output_type": "execute_result"
    }
   ],
   "source": [
    "all_grades.grade.value_counts(dropna=False)"
   ]
  },
  {
   "cell_type": "code",
   "execution_count": 66,
   "metadata": {},
   "outputs": [
    {
     "data": {
      "text/plain": [
       "A        1475964\n",
       "B         655533\n",
       "S         428869\n",
       "C         372261\n",
       "A-        273660\n",
       "          ...   \n",
       "58.38          1\n",
       "6.25           1\n",
       "52.54          1\n",
       "57.68          1\n",
       "55.41          1\n",
       "Name: mark, Length: 5303, dtype: int64"
      ]
     },
     "execution_count": 66,
     "metadata": {},
     "output_type": "execute_result"
    }
   ],
   "source": [
    "all_grades.mark.value_counts(dropna=False)"
   ]
  },
  {
   "cell_type": "markdown",
   "metadata": {},
   "source": [
    "## Absences"
   ]
  },
  {
   "cell_type": "code",
   "execution_count": 19,
   "metadata": {},
   "outputs": [
    {
     "data": {
      "text/plain": [
       "(1353739, 14)"
      ]
     },
     "execution_count": 19,
     "metadata": {},
     "output_type": "execute_result"
    }
   ],
   "source": [
    "all_absences.shape"
   ]
  },
  {
   "cell_type": "code",
   "execution_count": 20,
   "metadata": {},
   "outputs": [
    {
     "data": {
      "text/html": [
       "<div>\n",
       "<style scoped>\n",
       "    .dataframe tbody tr th:only-of-type {\n",
       "        vertical-align: middle;\n",
       "    }\n",
       "\n",
       "    .dataframe tbody tr th {\n",
       "        vertical-align: top;\n",
       "    }\n",
       "\n",
       "    .dataframe thead th {\n",
       "        text-align: right;\n",
       "    }\n",
       "</style>\n",
       "<table border=\"1\" class=\"dataframe\">\n",
       "  <thead>\n",
       "    <tr style=\"text-align: right;\">\n",
       "      <th></th>\n",
       "      <th>student_lookup</th>\n",
       "      <th>absence_code</th>\n",
       "      <th>absence_desc</th>\n",
       "      <th>absence_length</th>\n",
       "      <th>date</th>\n",
       "      <th>school</th>\n",
       "      <th>month</th>\n",
       "      <th>week</th>\n",
       "      <th>weekday</th>\n",
       "      <th>grade</th>\n",
       "      <th>absence_starting_date</th>\n",
       "      <th>absence_consec_count</th>\n",
       "      <th>tardy_starting_date</th>\n",
       "      <th>tardy_consec_count</th>\n",
       "    </tr>\n",
       "  </thead>\n",
       "  <tbody>\n",
       "    <tr>\n",
       "      <th>0</th>\n",
       "      <td>18162</td>\n",
       "      <td>E</td>\n",
       "      <td>court</td>\n",
       "      <td>1</td>\n",
       "      <td>2015-04-28</td>\n",
       "      <td>None</td>\n",
       "      <td>4</td>\n",
       "      <td>18</td>\n",
       "      <td>2</td>\n",
       "      <td>9.0</td>\n",
       "      <td>None</td>\n",
       "      <td>NaN</td>\n",
       "      <td>None</td>\n",
       "      <td>NaN</td>\n",
       "    </tr>\n",
       "    <tr>\n",
       "      <th>1</th>\n",
       "      <td>18220</td>\n",
       "      <td>E</td>\n",
       "      <td>court</td>\n",
       "      <td>0.5</td>\n",
       "      <td>2015-08-25</td>\n",
       "      <td>None</td>\n",
       "      <td>8</td>\n",
       "      <td>35</td>\n",
       "      <td>2</td>\n",
       "      <td>10.0</td>\n",
       "      <td>None</td>\n",
       "      <td>NaN</td>\n",
       "      <td>None</td>\n",
       "      <td>NaN</td>\n",
       "    </tr>\n",
       "    <tr>\n",
       "      <th>2</th>\n",
       "      <td>18491</td>\n",
       "      <td>M</td>\n",
       "      <td>medical</td>\n",
       "      <td>None</td>\n",
       "      <td>2015-01-13</td>\n",
       "      <td>None</td>\n",
       "      <td>1</td>\n",
       "      <td>3</td>\n",
       "      <td>2</td>\n",
       "      <td>3.0</td>\n",
       "      <td>None</td>\n",
       "      <td>NaN</td>\n",
       "      <td>None</td>\n",
       "      <td>NaN</td>\n",
       "    </tr>\n",
       "    <tr>\n",
       "      <th>3</th>\n",
       "      <td>18912</td>\n",
       "      <td>M</td>\n",
       "      <td>medical</td>\n",
       "      <td>None</td>\n",
       "      <td>2015-03-09</td>\n",
       "      <td>None</td>\n",
       "      <td>3</td>\n",
       "      <td>11</td>\n",
       "      <td>1</td>\n",
       "      <td>3.0</td>\n",
       "      <td>None</td>\n",
       "      <td>NaN</td>\n",
       "      <td>None</td>\n",
       "      <td>NaN</td>\n",
       "    </tr>\n",
       "    <tr>\n",
       "      <th>4</th>\n",
       "      <td>19036</td>\n",
       "      <td>M</td>\n",
       "      <td>medical</td>\n",
       "      <td>None</td>\n",
       "      <td>2014-10-22</td>\n",
       "      <td>None</td>\n",
       "      <td>10</td>\n",
       "      <td>43</td>\n",
       "      <td>3</td>\n",
       "      <td>11.0</td>\n",
       "      <td>None</td>\n",
       "      <td>NaN</td>\n",
       "      <td>None</td>\n",
       "      <td>NaN</td>\n",
       "    </tr>\n",
       "  </tbody>\n",
       "</table>\n",
       "</div>"
      ],
      "text/plain": [
       "   student_lookup absence_code absence_desc absence_length        date school  \\\n",
       "0           18162            E        court              1  2015-04-28   None   \n",
       "1           18220            E        court            0.5  2015-08-25   None   \n",
       "2           18491            M      medical           None  2015-01-13   None   \n",
       "3           18912            M      medical           None  2015-03-09   None   \n",
       "4           19036            M      medical           None  2014-10-22   None   \n",
       "\n",
       "   month  week  weekday  grade absence_starting_date  absence_consec_count  \\\n",
       "0      4    18        2    9.0                  None                   NaN   \n",
       "1      8    35        2   10.0                  None                   NaN   \n",
       "2      1     3        2    3.0                  None                   NaN   \n",
       "3      3    11        1    3.0                  None                   NaN   \n",
       "4     10    43        3   11.0                  None                   NaN   \n",
       "\n",
       "  tardy_starting_date  tardy_consec_count  \n",
       "0                None                 NaN  \n",
       "1                None                 NaN  \n",
       "2                None                 NaN  \n",
       "3                None                 NaN  \n",
       "4                None                 NaN  "
      ]
     },
     "execution_count": 20,
     "metadata": {},
     "output_type": "execute_result"
    }
   ],
   "source": [
    "all_absences.head()"
   ]
  },
  {
   "cell_type": "code",
   "execution_count": 30,
   "metadata": {},
   "outputs": [
    {
     "data": {
      "text/plain": [
       "array(['court', 'medical', 'misc', 'early_dismiss', 'tardy_unexcused',\n",
       "       'absence_excused', 'absence_all_day', 'absence_unexcused', 'jdc',\n",
       "       'testing', 'missing_desc', 'CANNOT_FIND_CHECK_VALUES',\n",
       "       'college_day', 'alternative_school', 'tardy_excused', 'left_early',\n",
       "       'field_trip', 'pm_absent', 'early_dismiss_approved',\n",
       "       'suspension_in_school', 'mat_child', 'med_legal_am',\n",
       "       'med_legal_pm', 'suspension', 'med_legal_all_day', 'tardy_medical',\n",
       "       'suspension_educated', 'school_transport_issue',\n",
       "       'not_counted_absent', 'arrive_late_not_tardy', 'am_absent',\n",
       "       'suspension_out_school', 'departed_will_return', 'religious',\n",
       "       'home_instruction', 'no_power', 'expulsion'], dtype=object)"
      ]
     },
     "execution_count": 30,
     "metadata": {},
     "output_type": "execute_result"
    }
   ],
   "source": [
    "all_absences.absence_desc.unique()"
   ]
  },
  {
   "cell_type": "markdown",
   "metadata": {},
   "source": [
    "## Snapshots"
   ]
  },
  {
   "cell_type": "code",
   "execution_count": 31,
   "metadata": {},
   "outputs": [
    {
     "data": {
      "text/plain": [
       "(259946, 36)"
      ]
     },
     "execution_count": 31,
     "metadata": {},
     "output_type": "execute_result"
    }
   ],
   "source": [
    "all_snapshots.shape"
   ]
  },
  {
   "cell_type": "code",
   "execution_count": 33,
   "metadata": {},
   "outputs": [
    {
     "data": {
      "text/plain": [
       "Index(['student_lookup', 'district', 'school_code', 'grade', 'school_year',\n",
       "       'birth_date', 'city', 'days_absent', 'days_absent_excused',\n",
       "       'days_absent_unexcused', 'days_present', 'diploma_type', 'disability',\n",
       "       'disadvantagement', 'discipline_incidents', 'district_admit_date',\n",
       "       'district_withdraw_date', 'ethnicity', 'gender', 'gifted',\n",
       "       'graduation_date', 'iss', 'limited_english', 'oss', 'school_name',\n",
       "       'section_504_plan', 'special_ed', 'state', 'street', 'street2',\n",
       "       'withdraw_reason', 'withdrawn_to_irn', 'zip', 'status', 'street_clean',\n",
       "       'id'],\n",
       "      dtype='object')"
      ]
     },
     "execution_count": 33,
     "metadata": {},
     "output_type": "execute_result"
    }
   ],
   "source": [
    "all_snapshots.columns"
   ]
  },
  {
   "cell_type": "code",
   "execution_count": 34,
   "metadata": {},
   "outputs": [
    {
     "data": {
      "text/html": [
       "<div>\n",
       "<style scoped>\n",
       "    .dataframe tbody tr th:only-of-type {\n",
       "        vertical-align: middle;\n",
       "    }\n",
       "\n",
       "    .dataframe tbody tr th {\n",
       "        vertical-align: top;\n",
       "    }\n",
       "\n",
       "    .dataframe thead th {\n",
       "        text-align: right;\n",
       "    }\n",
       "</style>\n",
       "<table border=\"1\" class=\"dataframe\">\n",
       "  <thead>\n",
       "    <tr style=\"text-align: right;\">\n",
       "      <th></th>\n",
       "      <th>student_lookup</th>\n",
       "      <th>district</th>\n",
       "      <th>school_code</th>\n",
       "      <th>grade</th>\n",
       "      <th>school_year</th>\n",
       "      <th>birth_date</th>\n",
       "      <th>city</th>\n",
       "      <th>days_absent</th>\n",
       "      <th>days_absent_excused</th>\n",
       "      <th>days_absent_unexcused</th>\n",
       "      <th>...</th>\n",
       "      <th>special_ed</th>\n",
       "      <th>state</th>\n",
       "      <th>street</th>\n",
       "      <th>street2</th>\n",
       "      <th>withdraw_reason</th>\n",
       "      <th>withdrawn_to_irn</th>\n",
       "      <th>zip</th>\n",
       "      <th>status</th>\n",
       "      <th>street_clean</th>\n",
       "      <th>id</th>\n",
       "    </tr>\n",
       "  </thead>\n",
       "  <tbody>\n",
       "    <tr>\n",
       "      <th>0</th>\n",
       "      <td>46.0</td>\n",
       "      <td>TriValley</td>\n",
       "      <td>TVHS</td>\n",
       "      <td>12.0</td>\n",
       "      <td>2014</td>\n",
       "      <td>1996-12-01</td>\n",
       "      <td>dresden</td>\n",
       "      <td>81.5</td>\n",
       "      <td>7.0</td>\n",
       "      <td>74.5</td>\n",
       "      <td>...</td>\n",
       "      <td>None</td>\n",
       "      <td>OH</td>\n",
       "      <td>11955 Bottom Rd</td>\n",
       "      <td>None</td>\n",
       "      <td>did not withdraw</td>\n",
       "      <td>None</td>\n",
       "      <td>43821-9423</td>\n",
       "      <td>active</td>\n",
       "      <td>11955 Bottom Rd</td>\n",
       "      <td>2557</td>\n",
       "    </tr>\n",
       "    <tr>\n",
       "      <th>1</th>\n",
       "      <td>57.0</td>\n",
       "      <td>Franklin</td>\n",
       "      <td>FDFP</td>\n",
       "      <td>2.0</td>\n",
       "      <td>2006</td>\n",
       "      <td>1999-01-01</td>\n",
       "      <td>zanesville</td>\n",
       "      <td>0.0</td>\n",
       "      <td>NaN</td>\n",
       "      <td>NaN</td>\n",
       "      <td>...</td>\n",
       "      <td>100</td>\n",
       "      <td>OH</td>\n",
       "      <td>1060 Bam Ln</td>\n",
       "      <td>None</td>\n",
       "      <td>None</td>\n",
       "      <td>None</td>\n",
       "      <td>43701-7611</td>\n",
       "      <td>active</td>\n",
       "      <td>1060 Bam Ln</td>\n",
       "      <td>2614</td>\n",
       "    </tr>\n",
       "    <tr>\n",
       "      <th>2</th>\n",
       "      <td>72.0</td>\n",
       "      <td>Maysville</td>\n",
       "      <td>MAES</td>\n",
       "      <td>2.0</td>\n",
       "      <td>2006</td>\n",
       "      <td>1998-08-01</td>\n",
       "      <td>roseville</td>\n",
       "      <td>NaN</td>\n",
       "      <td>NaN</td>\n",
       "      <td>NaN</td>\n",
       "      <td>...</td>\n",
       "      <td>100</td>\n",
       "      <td>OH</td>\n",
       "      <td>5135 Lambert Rd</td>\n",
       "      <td>None</td>\n",
       "      <td>None</td>\n",
       "      <td>None</td>\n",
       "      <td>43777-9718</td>\n",
       "      <td>active</td>\n",
       "      <td>5135 Lambert Rd</td>\n",
       "      <td>2676</td>\n",
       "    </tr>\n",
       "    <tr>\n",
       "      <th>3</th>\n",
       "      <td>95.0</td>\n",
       "      <td>Zanesville</td>\n",
       "      <td>None</td>\n",
       "      <td>6.0</td>\n",
       "      <td>2012</td>\n",
       "      <td>2001-01-01</td>\n",
       "      <td>None</td>\n",
       "      <td>NaN</td>\n",
       "      <td>NaN</td>\n",
       "      <td>NaN</td>\n",
       "      <td>...</td>\n",
       "      <td>None</td>\n",
       "      <td>None</td>\n",
       "      <td>None</td>\n",
       "      <td>None</td>\n",
       "      <td>None</td>\n",
       "      <td>None</td>\n",
       "      <td>None</td>\n",
       "      <td>open_enrollment</td>\n",
       "      <td>None</td>\n",
       "      <td>2812</td>\n",
       "    </tr>\n",
       "    <tr>\n",
       "      <th>4</th>\n",
       "      <td>112.0</td>\n",
       "      <td>TriValley</td>\n",
       "      <td>TVEF</td>\n",
       "      <td>0.0</td>\n",
       "      <td>2006</td>\n",
       "      <td>2001-01-01</td>\n",
       "      <td>frazeyburg</td>\n",
       "      <td>2.0</td>\n",
       "      <td>NaN</td>\n",
       "      <td>NaN</td>\n",
       "      <td>...</td>\n",
       "      <td>None</td>\n",
       "      <td>OH</td>\n",
       "      <td>11 3RD STREET</td>\n",
       "      <td>None</td>\n",
       "      <td>None</td>\n",
       "      <td>None</td>\n",
       "      <td>43822-9346</td>\n",
       "      <td>active</td>\n",
       "      <td>11 3Rd Street</td>\n",
       "      <td>242392</td>\n",
       "    </tr>\n",
       "  </tbody>\n",
       "</table>\n",
       "<p>5 rows × 36 columns</p>\n",
       "</div>"
      ],
      "text/plain": [
       "   student_lookup    district school_code  grade  school_year  birth_date  \\\n",
       "0            46.0   TriValley        TVHS   12.0         2014  1996-12-01   \n",
       "1            57.0    Franklin        FDFP    2.0         2006  1999-01-01   \n",
       "2            72.0   Maysville        MAES    2.0         2006  1998-08-01   \n",
       "3            95.0  Zanesville        None    6.0         2012  2001-01-01   \n",
       "4           112.0   TriValley        TVEF    0.0         2006  2001-01-01   \n",
       "\n",
       "         city  days_absent  days_absent_excused  days_absent_unexcused  ...  \\\n",
       "0     dresden         81.5                  7.0                   74.5  ...   \n",
       "1  zanesville          0.0                  NaN                    NaN  ...   \n",
       "2   roseville          NaN                  NaN                    NaN  ...   \n",
       "3        None          NaN                  NaN                    NaN  ...   \n",
       "4  frazeyburg          2.0                  NaN                    NaN  ...   \n",
       "\n",
       "   special_ed state           street street2   withdraw_reason  \\\n",
       "0        None    OH  11955 Bottom Rd    None  did not withdraw   \n",
       "1         100    OH      1060 Bam Ln    None              None   \n",
       "2         100    OH  5135 Lambert Rd    None              None   \n",
       "3        None  None             None    None              None   \n",
       "4        None    OH    11 3RD STREET    None              None   \n",
       "\n",
       "  withdrawn_to_irn         zip           status     street_clean      id  \n",
       "0             None  43821-9423           active  11955 Bottom Rd    2557  \n",
       "1             None  43701-7611           active      1060 Bam Ln    2614  \n",
       "2             None  43777-9718           active  5135 Lambert Rd    2676  \n",
       "3             None        None  open_enrollment             None    2812  \n",
       "4             None  43822-9346           active    11 3Rd Street  242392  \n",
       "\n",
       "[5 rows x 36 columns]"
      ]
     },
     "execution_count": 34,
     "metadata": {},
     "output_type": "execute_result"
    }
   ],
   "source": [
    "all_snapshots.head()"
   ]
  },
  {
   "cell_type": "code",
   "execution_count": 35,
   "metadata": {},
   "outputs": [
    {
     "data": {
      "text/plain": [
       "59850"
      ]
     },
     "execution_count": 35,
     "metadata": {},
     "output_type": "execute_result"
    }
   ],
   "source": [
    "all_snapshots.student_lookup.nunique()"
   ]
  },
  {
   "cell_type": "code",
   "execution_count": 47,
   "metadata": {},
   "outputs": [
    {
     "data": {
      "text/plain": [
       "did not withdraw                   127454\n",
       "NaN                                 99239\n",
       "transferred - in state              16256\n",
       "graduate                            11918\n",
       "transferred - out of state           1975\n",
       "withdrew - PS                        1175\n",
       "transferred - homeschool              430\n",
       "dropout - over 18                     352\n",
       "transferred - private                 349\n",
       "transferred - out of country          175\n",
       "error                                 141\n",
       "dropout - did not finish tests        113\n",
       "withdrew - KG                          75\n",
       "dropout - attendance                   74\n",
       "expelled                               70\n",
       "dropout - moved                        57\n",
       "withdrew - death                       35\n",
       "transferred - court ordered            30\n",
       "dropout - employment                   13\n",
       "withdrew - illness                      7\n",
       "withdrew - must leave IRN               5\n",
       "withdrew - district eligibility         3\n",
       "Name: withdraw_reason, dtype: int64"
      ]
     },
     "execution_count": 47,
     "metadata": {},
     "output_type": "execute_result"
    }
   ],
   "source": [
    "all_snapshots.withdraw_reason.value_counts(dropna=False)"
   ]
  },
  {
   "cell_type": "code",
   "execution_count": 48,
   "metadata": {},
   "outputs": [
    {
     "data": {
      "text/plain": [
       "TriValley                35350\n",
       "Maysville                26185\n",
       "Franklin                 25206\n",
       "Riverview                24959\n",
       "Logan_Hocking            22055\n",
       "Coshocton                20283\n",
       "Zanesville               19635\n",
       "West Muskingum           18960\n",
       "East Muskingum           14642\n",
       "Ridgewood                13546\n",
       "Northern Local SD        11469\n",
       "New Lexington City SD    10887\n",
       "Morgan                    8799\n",
       "Crooksville               7969\n",
       "NaN                          1\n",
       "Name: district, dtype: int64"
      ]
     },
     "execution_count": 48,
     "metadata": {},
     "output_type": "execute_result"
    }
   ],
   "source": [
    "all_snapshots.district.value_counts(dropna=False)"
   ]
  },
  {
   "cell_type": "code",
   "execution_count": 49,
   "metadata": {},
   "outputs": [
    {
     "data": {
      "text/plain": [
       "NaN     28435\n",
       "MAES    12623\n",
       "TVHS    11261\n",
       "6        9553\n",
       "3        9060\n",
       "FDFP     8510\n",
       "RVHS     8071\n",
       "MAHS     7779\n",
       "COCS     7746\n",
       "FPHS     7704\n",
       "8        6713\n",
       "5        6336\n",
       "WMHS     6147\n",
       "COHI     6011\n",
       "MAMS     5783\n",
       "TVEJ     5752\n",
       "TVEN     5461\n",
       "TVMS     5434\n",
       "RIHS     5349\n",
       "FPJH     5170\n",
       "WMED     5138\n",
       "WMMS     4736\n",
       "2        4735\n",
       "EMHS     4470\n",
       "RIJH     4126\n",
       "RIWE     4071\n",
       "RWAR     3862\n",
       "RCON     3845\n",
       "RVJH     3835\n",
       "4        3758\n",
       "TVEF     3484\n",
       "EMMS     3300\n",
       "EMIS     3217\n",
       "TVEA     3105\n",
       "WMEH     2939\n",
       "CEEP     2920\n",
       "COMI     2919\n",
       "1        2902\n",
       "CEHS     2864\n",
       "RKEE     2676\n",
       "RUNI     2632\n",
       "FRMS     2552\n",
       "COLS     2217\n",
       "CEIS     2149\n",
       "EMEN     1840\n",
       "7        1326\n",
       "FRPR     1270\n",
       "COSL     1228\n",
       "EMEP      969\n",
       "TVEI      853\n",
       "EMEK      846\n",
       "COWS      162\n",
       "RPLE       38\n",
       "CEPS       36\n",
       "47         28\n",
       "Name: school_code, dtype: int64"
      ]
     },
     "execution_count": 49,
     "metadata": {},
     "output_type": "execute_result"
    }
   ],
   "source": [
    "all_snapshots.school_code.value_counts(dropna=False)"
   ]
  },
  {
   "cell_type": "code",
   "execution_count": 50,
   "metadata": {},
   "outputs": [
    {
     "data": {
      "text/plain": [
       "M      134447\n",
       "F      125482\n",
       "NaN        17\n",
       "Name: gender, dtype: int64"
      ]
     },
     "execution_count": 50,
     "metadata": {},
     "output_type": "execute_result"
    }
   ],
   "source": [
    "all_snapshots.gender.value_counts(dropna=False)"
   ]
  },
  {
   "cell_type": "code",
   "execution_count": 51,
   "metadata": {},
   "outputs": [
    {
     "data": {
      "text/plain": [
       "W      240681\n",
       "M       11274\n",
       "B        4621\n",
       "H        1301\n",
       "A        1068\n",
       "NaN       764\n",
       "I         237\n",
       "Name: ethnicity, dtype: int64"
      ]
     },
     "execution_count": 51,
     "metadata": {},
     "output_type": "execute_result"
    }
   ],
   "source": [
    "all_snapshots.ethnicity.value_counts(dropna=False)"
   ]
  },
  {
   "cell_type": "code",
   "execution_count": 52,
   "metadata": {},
   "outputs": [
    {
     "data": {
      "text/plain": [
       "NaN    235650\n",
       "Y       13381\n",
       "N       10906\n",
       "0           7\n",
       "L           2\n",
       "Name: gifted, dtype: int64"
      ]
     },
     "execution_count": 52,
     "metadata": {},
     "output_type": "execute_result"
    }
   ],
   "source": [
    "all_snapshots.gifted.value_counts(dropna=False)"
   ]
  },
  {
   "cell_type": "code",
   "execution_count": 64,
   "metadata": {},
   "outputs": [
    {
     "data": {
      "text/plain": [
       " 9.0     20269\n",
       " 10.0    19842\n",
       " 12.0    19816\n",
       " 8.0     19618\n",
       " 7.0     19462\n",
       " 11.0    19216\n",
       " 6.0     19060\n",
       " 5.0     18943\n",
       " 3.0     18914\n",
       " 1.0     18884\n",
       " 2.0     18870\n",
       " 4.0     18823\n",
       " 0.0     18633\n",
       "-1.0      8401\n",
       " 23.0      665\n",
       " NaN       301\n",
       " 99.0      229\n",
       "Name: grade, dtype: int64"
      ]
     },
     "execution_count": 64,
     "metadata": {},
     "output_type": "execute_result"
    }
   ],
   "source": [
    "all_snapshots.grade.value_counts(dropna=False)"
   ]
  },
  {
   "cell_type": "code",
   "execution_count": 53,
   "metadata": {},
   "outputs": [
    {
     "data": {
      "text/html": [
       "<div>\n",
       "<style scoped>\n",
       "    .dataframe tbody tr th:only-of-type {\n",
       "        vertical-align: middle;\n",
       "    }\n",
       "\n",
       "    .dataframe tbody tr th {\n",
       "        vertical-align: top;\n",
       "    }\n",
       "\n",
       "    .dataframe thead th {\n",
       "        text-align: right;\n",
       "    }\n",
       "</style>\n",
       "<table border=\"1\" class=\"dataframe\">\n",
       "  <thead>\n",
       "    <tr style=\"text-align: right;\">\n",
       "      <th></th>\n",
       "      <th>student_lookup</th>\n",
       "      <th>district</th>\n",
       "      <th>school_code</th>\n",
       "      <th>grade</th>\n",
       "      <th>school_year</th>\n",
       "      <th>birth_date</th>\n",
       "      <th>city</th>\n",
       "      <th>days_absent</th>\n",
       "      <th>days_absent_excused</th>\n",
       "      <th>days_absent_unexcused</th>\n",
       "      <th>...</th>\n",
       "      <th>special_ed</th>\n",
       "      <th>state</th>\n",
       "      <th>street</th>\n",
       "      <th>street2</th>\n",
       "      <th>withdraw_reason</th>\n",
       "      <th>withdrawn_to_irn</th>\n",
       "      <th>zip</th>\n",
       "      <th>status</th>\n",
       "      <th>street_clean</th>\n",
       "      <th>id</th>\n",
       "    </tr>\n",
       "  </thead>\n",
       "  <tbody>\n",
       "    <tr>\n",
       "      <th>1742</th>\n",
       "      <td>1.0</td>\n",
       "      <td>Riverview</td>\n",
       "      <td>RCON</td>\n",
       "      <td>0.0</td>\n",
       "      <td>2012</td>\n",
       "      <td>2007-01-01</td>\n",
       "      <td>coshocton</td>\n",
       "      <td>16.00</td>\n",
       "      <td>16.0</td>\n",
       "      <td>0.0</td>\n",
       "      <td>...</td>\n",
       "      <td>None</td>\n",
       "      <td>OH</td>\n",
       "      <td>20835 Sr 16</td>\n",
       "      <td>None</td>\n",
       "      <td>did not withdraw</td>\n",
       "      <td>None</td>\n",
       "      <td>43812</td>\n",
       "      <td>active</td>\n",
       "      <td>20835 Sr 16</td>\n",
       "      <td>2451</td>\n",
       "    </tr>\n",
       "    <tr>\n",
       "      <th>1743</th>\n",
       "      <td>1.0</td>\n",
       "      <td>Riverview</td>\n",
       "      <td>RCON</td>\n",
       "      <td>1.0</td>\n",
       "      <td>2013</td>\n",
       "      <td>2007-01-01</td>\n",
       "      <td>coshocton</td>\n",
       "      <td>3.00</td>\n",
       "      <td>3.0</td>\n",
       "      <td>0.0</td>\n",
       "      <td>...</td>\n",
       "      <td>None</td>\n",
       "      <td>OH</td>\n",
       "      <td>20835 Sr 16</td>\n",
       "      <td>None</td>\n",
       "      <td>did not withdraw</td>\n",
       "      <td>None</td>\n",
       "      <td>43812</td>\n",
       "      <td>active</td>\n",
       "      <td>20835 Sr 16</td>\n",
       "      <td>2448</td>\n",
       "    </tr>\n",
       "    <tr>\n",
       "      <th>1744</th>\n",
       "      <td>1.0</td>\n",
       "      <td>Riverview</td>\n",
       "      <td>RCON</td>\n",
       "      <td>3.0</td>\n",
       "      <td>2014</td>\n",
       "      <td>2007-01-01</td>\n",
       "      <td>coshocton</td>\n",
       "      <td>14.00</td>\n",
       "      <td>14.0</td>\n",
       "      <td>0.0</td>\n",
       "      <td>...</td>\n",
       "      <td>None</td>\n",
       "      <td>OH</td>\n",
       "      <td>20835 Sr 16</td>\n",
       "      <td>None</td>\n",
       "      <td>did not withdraw</td>\n",
       "      <td>None</td>\n",
       "      <td>43812</td>\n",
       "      <td>active</td>\n",
       "      <td>20835 Sr 16</td>\n",
       "      <td>2450</td>\n",
       "    </tr>\n",
       "    <tr>\n",
       "      <th>1745</th>\n",
       "      <td>1.0</td>\n",
       "      <td>Riverview</td>\n",
       "      <td>RCON</td>\n",
       "      <td>3.0</td>\n",
       "      <td>2015</td>\n",
       "      <td>2007-01-01</td>\n",
       "      <td>coshocton</td>\n",
       "      <td>5.50</td>\n",
       "      <td>5.5</td>\n",
       "      <td>0.0</td>\n",
       "      <td>...</td>\n",
       "      <td>None</td>\n",
       "      <td>OH</td>\n",
       "      <td>20835 Sr 16</td>\n",
       "      <td>None</td>\n",
       "      <td>did not withdraw</td>\n",
       "      <td>None</td>\n",
       "      <td>43812</td>\n",
       "      <td>active</td>\n",
       "      <td>20835 Sr 16</td>\n",
       "      <td>2449</td>\n",
       "    </tr>\n",
       "    <tr>\n",
       "      <th>1746</th>\n",
       "      <td>2.0</td>\n",
       "      <td>Maysville</td>\n",
       "      <td>MAES</td>\n",
       "      <td>3.0</td>\n",
       "      <td>2015</td>\n",
       "      <td>2007-01-01</td>\n",
       "      <td>east fultonham</td>\n",
       "      <td>16.00</td>\n",
       "      <td>13.0</td>\n",
       "      <td>3.0</td>\n",
       "      <td>...</td>\n",
       "      <td>None</td>\n",
       "      <td>OH</td>\n",
       "      <td>5785 Ream Ave</td>\n",
       "      <td>None</td>\n",
       "      <td>transferred - in state</td>\n",
       "      <td>None</td>\n",
       "      <td>43735</td>\n",
       "      <td>inactive</td>\n",
       "      <td>5785 Ream Ave</td>\n",
       "      <td>2452</td>\n",
       "    </tr>\n",
       "    <tr>\n",
       "      <th>...</th>\n",
       "      <td>...</td>\n",
       "      <td>...</td>\n",
       "      <td>...</td>\n",
       "      <td>...</td>\n",
       "      <td>...</td>\n",
       "      <td>...</td>\n",
       "      <td>...</td>\n",
       "      <td>...</td>\n",
       "      <td>...</td>\n",
       "      <td>...</td>\n",
       "      <td>...</td>\n",
       "      <td>...</td>\n",
       "      <td>...</td>\n",
       "      <td>...</td>\n",
       "      <td>...</td>\n",
       "      <td>...</td>\n",
       "      <td>...</td>\n",
       "      <td>...</td>\n",
       "      <td>...</td>\n",
       "      <td>...</td>\n",
       "      <td>...</td>\n",
       "    </tr>\n",
       "    <tr>\n",
       "      <th>259942</th>\n",
       "      <td>701184.0</td>\n",
       "      <td>New Lexington City SD</td>\n",
       "      <td>1</td>\n",
       "      <td>12.0</td>\n",
       "      <td>2011</td>\n",
       "      <td>1993-12-01</td>\n",
       "      <td>pataskala</td>\n",
       "      <td>0.00</td>\n",
       "      <td>NaN</td>\n",
       "      <td>NaN</td>\n",
       "      <td>...</td>\n",
       "      <td>None</td>\n",
       "      <td>OH</td>\n",
       "      <td>723 Ridgeview Drive</td>\n",
       "      <td>None</td>\n",
       "      <td>None</td>\n",
       "      <td>None</td>\n",
       "      <td>43062</td>\n",
       "      <td>6</td>\n",
       "      <td>723 Ridgeview Dr</td>\n",
       "      <td>260798</td>\n",
       "    </tr>\n",
       "    <tr>\n",
       "      <th>259943</th>\n",
       "      <td>701185.0</td>\n",
       "      <td>Northern Local SD</td>\n",
       "      <td>2</td>\n",
       "      <td>0.0</td>\n",
       "      <td>2011</td>\n",
       "      <td>2006-03-01</td>\n",
       "      <td>mount perry</td>\n",
       "      <td>NaN</td>\n",
       "      <td>NaN</td>\n",
       "      <td>NaN</td>\n",
       "      <td>...</td>\n",
       "      <td>None</td>\n",
       "      <td>OH</td>\n",
       "      <td>9710 Wesley Chapel Rd</td>\n",
       "      <td>None</td>\n",
       "      <td>None</td>\n",
       "      <td>None</td>\n",
       "      <td>43760</td>\n",
       "      <td>6</td>\n",
       "      <td>9710 Wesley Chapel Rd</td>\n",
       "      <td>161584</td>\n",
       "    </tr>\n",
       "    <tr>\n",
       "      <th>259944</th>\n",
       "      <td>701186.0</td>\n",
       "      <td>New Lexington City SD</td>\n",
       "      <td>1</td>\n",
       "      <td>23.0</td>\n",
       "      <td>2011</td>\n",
       "      <td>1993-04-01</td>\n",
       "      <td>nelsonville</td>\n",
       "      <td>0.00</td>\n",
       "      <td>NaN</td>\n",
       "      <td>NaN</td>\n",
       "      <td>...</td>\n",
       "      <td>None</td>\n",
       "      <td>OH</td>\n",
       "      <td>174 Mound Street</td>\n",
       "      <td>None</td>\n",
       "      <td>None</td>\n",
       "      <td>None</td>\n",
       "      <td>45764</td>\n",
       "      <td>7</td>\n",
       "      <td>174 Mound Street</td>\n",
       "      <td>161586</td>\n",
       "    </tr>\n",
       "    <tr>\n",
       "      <th>259945</th>\n",
       "      <td>701187.0</td>\n",
       "      <td>New Lexington City SD</td>\n",
       "      <td>4</td>\n",
       "      <td>8.0</td>\n",
       "      <td>2011</td>\n",
       "      <td>1998-05-01</td>\n",
       "      <td>junction city</td>\n",
       "      <td>9.55</td>\n",
       "      <td>NaN</td>\n",
       "      <td>NaN</td>\n",
       "      <td>...</td>\n",
       "      <td>None</td>\n",
       "      <td>OH</td>\n",
       "      <td>4201 Mainesville Road</td>\n",
       "      <td>None</td>\n",
       "      <td>None</td>\n",
       "      <td>None</td>\n",
       "      <td>43748</td>\n",
       "      <td>7</td>\n",
       "      <td>4201 Mainesville Rd</td>\n",
       "      <td>254774</td>\n",
       "    </tr>\n",
       "    <tr>\n",
       "      <th>1764</th>\n",
       "      <td>NaN</td>\n",
       "      <td>None</td>\n",
       "      <td>None</td>\n",
       "      <td>NaN</td>\n",
       "      <td>2012</td>\n",
       "      <td>None</td>\n",
       "      <td>None</td>\n",
       "      <td>NaN</td>\n",
       "      <td>NaN</td>\n",
       "      <td>NaN</td>\n",
       "      <td>...</td>\n",
       "      <td>None</td>\n",
       "      <td>None</td>\n",
       "      <td>None</td>\n",
       "      <td>None</td>\n",
       "      <td>None</td>\n",
       "      <td>None</td>\n",
       "      <td>None</td>\n",
       "      <td>None</td>\n",
       "      <td>None</td>\n",
       "      <td>1305</td>\n",
       "    </tr>\n",
       "  </tbody>\n",
       "</table>\n",
       "<p>259946 rows × 36 columns</p>\n",
       "</div>"
      ],
      "text/plain": [
       "        student_lookup               district school_code  grade  school_year  \\\n",
       "1742               1.0              Riverview        RCON    0.0         2012   \n",
       "1743               1.0              Riverview        RCON    1.0         2013   \n",
       "1744               1.0              Riverview        RCON    3.0         2014   \n",
       "1745               1.0              Riverview        RCON    3.0         2015   \n",
       "1746               2.0              Maysville        MAES    3.0         2015   \n",
       "...                ...                    ...         ...    ...          ...   \n",
       "259942        701184.0  New Lexington City SD           1   12.0         2011   \n",
       "259943        701185.0      Northern Local SD           2    0.0         2011   \n",
       "259944        701186.0  New Lexington City SD           1   23.0         2011   \n",
       "259945        701187.0  New Lexington City SD           4    8.0         2011   \n",
       "1764               NaN                   None        None    NaN         2012   \n",
       "\n",
       "        birth_date            city  days_absent  days_absent_excused  \\\n",
       "1742    2007-01-01       coshocton        16.00                 16.0   \n",
       "1743    2007-01-01       coshocton         3.00                  3.0   \n",
       "1744    2007-01-01       coshocton        14.00                 14.0   \n",
       "1745    2007-01-01       coshocton         5.50                  5.5   \n",
       "1746    2007-01-01  east fultonham        16.00                 13.0   \n",
       "...            ...             ...          ...                  ...   \n",
       "259942  1993-12-01       pataskala         0.00                  NaN   \n",
       "259943  2006-03-01     mount perry          NaN                  NaN   \n",
       "259944  1993-04-01     nelsonville         0.00                  NaN   \n",
       "259945  1998-05-01   junction city         9.55                  NaN   \n",
       "1764          None            None          NaN                  NaN   \n",
       "\n",
       "        days_absent_unexcused  ...  special_ed state                 street  \\\n",
       "1742                      0.0  ...        None    OH            20835 Sr 16   \n",
       "1743                      0.0  ...        None    OH            20835 Sr 16   \n",
       "1744                      0.0  ...        None    OH            20835 Sr 16   \n",
       "1745                      0.0  ...        None    OH            20835 Sr 16   \n",
       "1746                      3.0  ...        None    OH          5785 Ream Ave   \n",
       "...                       ...  ...         ...   ...                    ...   \n",
       "259942                    NaN  ...        None    OH    723 Ridgeview Drive   \n",
       "259943                    NaN  ...        None    OH  9710 Wesley Chapel Rd   \n",
       "259944                    NaN  ...        None    OH       174 Mound Street   \n",
       "259945                    NaN  ...        None    OH  4201 Mainesville Road   \n",
       "1764                      NaN  ...        None  None                   None   \n",
       "\n",
       "       street2         withdraw_reason withdrawn_to_irn    zip    status  \\\n",
       "1742      None        did not withdraw             None  43812    active   \n",
       "1743      None        did not withdraw             None  43812    active   \n",
       "1744      None        did not withdraw             None  43812    active   \n",
       "1745      None        did not withdraw             None  43812    active   \n",
       "1746      None  transferred - in state             None  43735  inactive   \n",
       "...        ...                     ...              ...    ...       ...   \n",
       "259942    None                    None             None  43062         6   \n",
       "259943    None                    None             None  43760         6   \n",
       "259944    None                    None             None  45764         7   \n",
       "259945    None                    None             None  43748         7   \n",
       "1764      None                    None             None   None      None   \n",
       "\n",
       "                 street_clean      id  \n",
       "1742              20835 Sr 16    2451  \n",
       "1743              20835 Sr 16    2448  \n",
       "1744              20835 Sr 16    2450  \n",
       "1745              20835 Sr 16    2449  \n",
       "1746            5785 Ream Ave    2452  \n",
       "...                       ...     ...  \n",
       "259942       723 Ridgeview Dr  260798  \n",
       "259943  9710 Wesley Chapel Rd  161584  \n",
       "259944       174 Mound Street  161586  \n",
       "259945    4201 Mainesville Rd  254774  \n",
       "1764                     None    1305  \n",
       "\n",
       "[259946 rows x 36 columns]"
      ]
     },
     "execution_count": 53,
     "metadata": {},
     "output_type": "execute_result"
    }
   ],
   "source": [
    "all_snapshots.sort_values(['student_lookup', 'school_year'])"
   ]
  },
  {
   "cell_type": "markdown",
   "metadata": {},
   "source": [
    "## High school GPA"
   ]
  },
  {
   "cell_type": "code",
   "execution_count": 54,
   "metadata": {},
   "outputs": [
    {
     "data": {
      "text/plain": [
       "(51093, 4)"
      ]
     },
     "execution_count": 54,
     "metadata": {},
     "output_type": "execute_result"
    }
   ],
   "source": [
    "high_school_gpa.shape"
   ]
  },
  {
   "cell_type": "code",
   "execution_count": 55,
   "metadata": {},
   "outputs": [
    {
     "data": {
      "text/plain": [
       "Index(['student_lookup', 'school_year', 'gpa', 'num_classes'], dtype='object')"
      ]
     },
     "execution_count": 55,
     "metadata": {},
     "output_type": "execute_result"
    }
   ],
   "source": [
    "high_school_gpa.columns"
   ]
  },
  {
   "cell_type": "code",
   "execution_count": 56,
   "metadata": {},
   "outputs": [
    {
     "data": {
      "text/html": [
       "<div>\n",
       "<style scoped>\n",
       "    .dataframe tbody tr th:only-of-type {\n",
       "        vertical-align: middle;\n",
       "    }\n",
       "\n",
       "    .dataframe tbody tr th {\n",
       "        vertical-align: top;\n",
       "    }\n",
       "\n",
       "    .dataframe thead th {\n",
       "        text-align: right;\n",
       "    }\n",
       "</style>\n",
       "<table border=\"1\" class=\"dataframe\">\n",
       "  <thead>\n",
       "    <tr style=\"text-align: right;\">\n",
       "      <th></th>\n",
       "      <th>student_lookup</th>\n",
       "      <th>school_year</th>\n",
       "      <th>gpa</th>\n",
       "      <th>num_classes</th>\n",
       "    </tr>\n",
       "  </thead>\n",
       "  <tbody>\n",
       "    <tr>\n",
       "      <th>0</th>\n",
       "      <td>45</td>\n",
       "      <td>2013</td>\n",
       "      <td>3.333333</td>\n",
       "      <td>24</td>\n",
       "    </tr>\n",
       "    <tr>\n",
       "      <th>1</th>\n",
       "      <td>45</td>\n",
       "      <td>2014</td>\n",
       "      <td>3.409091</td>\n",
       "      <td>22</td>\n",
       "    </tr>\n",
       "    <tr>\n",
       "      <th>2</th>\n",
       "      <td>45</td>\n",
       "      <td>2015</td>\n",
       "      <td>3.041667</td>\n",
       "      <td>24</td>\n",
       "    </tr>\n",
       "    <tr>\n",
       "      <th>3</th>\n",
       "      <td>46</td>\n",
       "      <td>2011</td>\n",
       "      <td>1.648387</td>\n",
       "      <td>31</td>\n",
       "    </tr>\n",
       "    <tr>\n",
       "      <th>4</th>\n",
       "      <td>46</td>\n",
       "      <td>2012</td>\n",
       "      <td>1.370000</td>\n",
       "      <td>20</td>\n",
       "    </tr>\n",
       "  </tbody>\n",
       "</table>\n",
       "</div>"
      ],
      "text/plain": [
       "   student_lookup  school_year       gpa  num_classes\n",
       "0              45         2013  3.333333           24\n",
       "1              45         2014  3.409091           22\n",
       "2              45         2015  3.041667           24\n",
       "3              46         2011  1.648387           31\n",
       "4              46         2012  1.370000           20"
      ]
     },
     "execution_count": 56,
     "metadata": {},
     "output_type": "execute_result"
    }
   ],
   "source": [
    "high_school_gpa.head()"
   ]
  },
  {
   "cell_type": "code",
   "execution_count": 57,
   "metadata": {},
   "outputs": [
    {
     "data": {
      "text/plain": [
       "21935"
      ]
     },
     "execution_count": 57,
     "metadata": {},
     "output_type": "execute_result"
    }
   ],
   "source": [
    "high_school_gpa.student_lookup.nunique()"
   ]
  },
  {
   "cell_type": "markdown",
   "metadata": {},
   "source": [
    "## Interventions"
   ]
  },
  {
   "cell_type": "code",
   "execution_count": 58,
   "metadata": {},
   "outputs": [
    {
     "data": {
      "text/plain": [
       "(158239, 9)"
      ]
     },
     "execution_count": 58,
     "metadata": {},
     "output_type": "execute_result"
    }
   ],
   "source": [
    "intervention.shape"
   ]
  },
  {
   "cell_type": "code",
   "execution_count": 59,
   "metadata": {},
   "outputs": [
    {
     "data": {
      "text/plain": [
       "Index(['student_lookup', 'status', 'gender', 'membership_code', 'description',\n",
       "       'school_year', 'district', 'grade', 'inv_group'],\n",
       "      dtype='object')"
      ]
     },
     "execution_count": 59,
     "metadata": {},
     "output_type": "execute_result"
    }
   ],
   "source": [
    "intervention.columns"
   ]
  },
  {
   "cell_type": "code",
   "execution_count": 60,
   "metadata": {},
   "outputs": [
    {
     "data": {
      "text/html": [
       "<div>\n",
       "<style scoped>\n",
       "    .dataframe tbody tr th:only-of-type {\n",
       "        vertical-align: middle;\n",
       "    }\n",
       "\n",
       "    .dataframe tbody tr th {\n",
       "        vertical-align: top;\n",
       "    }\n",
       "\n",
       "    .dataframe thead th {\n",
       "        text-align: right;\n",
       "    }\n",
       "</style>\n",
       "<table border=\"1\" class=\"dataframe\">\n",
       "  <thead>\n",
       "    <tr style=\"text-align: right;\">\n",
       "      <th></th>\n",
       "      <th>student_lookup</th>\n",
       "      <th>status</th>\n",
       "      <th>gender</th>\n",
       "      <th>membership_code</th>\n",
       "      <th>description</th>\n",
       "      <th>school_year</th>\n",
       "      <th>district</th>\n",
       "      <th>grade</th>\n",
       "      <th>inv_group</th>\n",
       "    </tr>\n",
       "  </thead>\n",
       "  <tbody>\n",
       "    <tr>\n",
       "      <th>0</th>\n",
       "      <td>9739</td>\n",
       "      <td>A</td>\n",
       "      <td>M</td>\n",
       "      <td>152330</td>\n",
       "      <td>Student received intervention provided during ...</td>\n",
       "      <td>2007</td>\n",
       "      <td>Franklin</td>\n",
       "      <td>3.0</td>\n",
       "      <td>academic_inv</td>\n",
       "    </tr>\n",
       "    <tr>\n",
       "      <th>1</th>\n",
       "      <td>11230</td>\n",
       "      <td>A</td>\n",
       "      <td>M</td>\n",
       "      <td>152330</td>\n",
       "      <td>Student received intervention provided during ...</td>\n",
       "      <td>2007</td>\n",
       "      <td>Franklin</td>\n",
       "      <td>3.0</td>\n",
       "      <td>academic_inv</td>\n",
       "    </tr>\n",
       "    <tr>\n",
       "      <th>2</th>\n",
       "      <td>1969</td>\n",
       "      <td>A</td>\n",
       "      <td>F</td>\n",
       "      <td>152330</td>\n",
       "      <td>Student received intervention provided during ...</td>\n",
       "      <td>2007</td>\n",
       "      <td>Franklin</td>\n",
       "      <td>3.0</td>\n",
       "      <td>academic_inv</td>\n",
       "    </tr>\n",
       "    <tr>\n",
       "      <th>3</th>\n",
       "      <td>68943</td>\n",
       "      <td>I</td>\n",
       "      <td>M</td>\n",
       "      <td>210014</td>\n",
       "      <td>21-60% SPEC ED</td>\n",
       "      <td>2006</td>\n",
       "      <td>Franklin</td>\n",
       "      <td>5.0</td>\n",
       "      <td>placement</td>\n",
       "    </tr>\n",
       "    <tr>\n",
       "      <th>4</th>\n",
       "      <td>10466</td>\n",
       "      <td>A</td>\n",
       "      <td>M</td>\n",
       "      <td>210013</td>\n",
       "      <td>&lt;21% SPEC ED</td>\n",
       "      <td>2007</td>\n",
       "      <td>Franklin</td>\n",
       "      <td>3.0</td>\n",
       "      <td>placement</td>\n",
       "    </tr>\n",
       "  </tbody>\n",
       "</table>\n",
       "</div>"
      ],
      "text/plain": [
       "   student_lookup status gender  membership_code  \\\n",
       "0            9739      A      M           152330   \n",
       "1           11230      A      M           152330   \n",
       "2            1969      A      F           152330   \n",
       "3           68943      I      M           210014   \n",
       "4           10466      A      M           210013   \n",
       "\n",
       "                                         description school_year  district  \\\n",
       "0  Student received intervention provided during ...        2007  Franklin   \n",
       "1  Student received intervention provided during ...        2007  Franklin   \n",
       "2  Student received intervention provided during ...        2007  Franklin   \n",
       "3                               21-60% SPEC ED              2006  Franklin   \n",
       "4                               <21% SPEC ED                2007  Franklin   \n",
       "\n",
       "   grade     inv_group  \n",
       "0    3.0  academic_inv  \n",
       "1    3.0  academic_inv  \n",
       "2    3.0  academic_inv  \n",
       "3    5.0     placement  \n",
       "4    3.0     placement  "
      ]
     },
     "execution_count": 60,
     "metadata": {},
     "output_type": "execute_result"
    }
   ],
   "source": [
    "intervention.head()"
   ]
  },
  {
   "cell_type": "code",
   "execution_count": 61,
   "metadata": {},
   "outputs": [
    {
     "data": {
      "text/plain": [
       "Student received intervention provided during regular school    27453\n",
       "Speech & Language Services                                      10932\n",
       "Track and Field                                                  8474\n",
       "Football                                                         7954\n",
       "Basketball                                                       6833\n",
       "                                                                ...  \n",
       "School Health Services                                              3\n",
       "Previously reported as a dropout in another Ohio district           1\n",
       "Special Education Program - Separate School                         1\n",
       "All Special Ed in separate school                                   1\n",
       "Early childhood special education setting                           1\n",
       "Name: description, Length: 150, dtype: int64"
      ]
     },
     "execution_count": 61,
     "metadata": {},
     "output_type": "execute_result"
    }
   ],
   "source": [
    "intervention.description.value_counts(dropna=False)"
   ]
  },
  {
   "cell_type": "code",
   "execution_count": 62,
   "metadata": {},
   "outputs": [
    {
     "data": {
      "text/plain": [
       "27635"
      ]
     },
     "execution_count": 62,
     "metadata": {},
     "output_type": "execute_result"
    }
   ],
   "source": [
    "intervention.student_lookup.nunique()"
   ]
  },
  {
   "cell_type": "markdown",
   "metadata": {},
   "source": [
    "## Test scores"
   ]
  },
  {
   "cell_type": "code",
   "execution_count": 67,
   "metadata": {},
   "outputs": [
    {
     "data": {
      "text/plain": [
       "(48052, 62)"
      ]
     },
     "execution_count": 67,
     "metadata": {},
     "output_type": "execute_result"
    }
   ],
   "source": [
    "oaaogt.shape"
   ]
  },
  {
   "cell_type": "code",
   "execution_count": 68,
   "metadata": {},
   "outputs": [
    {
     "data": {
      "text/plain": [
       "46419"
      ]
     },
     "execution_count": 68,
     "metadata": {},
     "output_type": "execute_result"
    }
   ],
   "source": [
    "oaaogt.student_lookup.nunique()"
   ]
  },
  {
   "cell_type": "code",
   "execution_count": 69,
   "metadata": {},
   "outputs": [
    {
     "data": {
      "text/plain": [
       "Index(['student_lookup', 'dob', 'gender', 'ethnicity', 'kral', 'kral_pl',\n",
       "       'third_read_pl', 'third_read_ss', 'third_math_pl', 'third_math_ss',\n",
       "       'fourth_read_pl', 'fourth_read_ss', 'fourth_math_pl', 'fourth_math_ss',\n",
       "       'fourth_write_pl', 'fourth_write_ss', 'fourth_ctz_pl', 'fourth_ctz_ss',\n",
       "       'fourth_science_pl', 'fourth_science_ss', 'fifth_read_pl',\n",
       "       'fifth_read_ss', 'fifth_math_pl', 'fifth_math_ss',\n",
       "       'fifth_socstudies_pl', 'fifth_socstudies_ss', 'fifth_science_pl',\n",
       "       'fifth_science_ss', 'sixth_read_pl', 'sixth_read_ss', 'sixth_math_pl',\n",
       "       'sixth_math_ss', 'sixth_write_pl', 'sixth_write_ss', 'sixth_ctz_pl',\n",
       "       'sixth_ctz_ss', 'sixth_science_pl', 'sixth_science_ss',\n",
       "       'seventh_read_pl', 'seventh_read_ss', 'seventh_math_pl',\n",
       "       'seventh_math_ss', 'seventh_write_pl', 'seventh_write_ss',\n",
       "       'eighth_read_pl', 'eighth_read_ss', 'eighth_math_pl', 'eighth_math_ss',\n",
       "       'eighth_science_pl', 'eighth_science_ss', 'eighth_socstudies_pl',\n",
       "       'eighth_socstudies_ss', 'ogt_read_pl', 'ogt_read_ss', 'ogt_math_pl',\n",
       "       'ogt_math_ss', 'ogt_write_pl', 'ogt_write_ss', 'ogt_science_pl',\n",
       "       'ogt_science_ss', 'ogt_socstudies_pl', 'ogt_socstudies_ss'],\n",
       "      dtype='object')"
      ]
     },
     "execution_count": 69,
     "metadata": {},
     "output_type": "execute_result"
    }
   ],
   "source": [
    "oaaogt.columns"
   ]
  },
  {
   "cell_type": "code",
   "execution_count": 71,
   "metadata": {},
   "outputs": [
    {
     "data": {
      "text/html": [
       "<div>\n",
       "<style scoped>\n",
       "    .dataframe tbody tr th:only-of-type {\n",
       "        vertical-align: middle;\n",
       "    }\n",
       "\n",
       "    .dataframe tbody tr th {\n",
       "        vertical-align: top;\n",
       "    }\n",
       "\n",
       "    .dataframe thead th {\n",
       "        text-align: right;\n",
       "    }\n",
       "</style>\n",
       "<table border=\"1\" class=\"dataframe\">\n",
       "  <thead>\n",
       "    <tr style=\"text-align: right;\">\n",
       "      <th></th>\n",
       "      <th>student_lookup</th>\n",
       "      <th>dob</th>\n",
       "      <th>gender</th>\n",
       "      <th>ethnicity</th>\n",
       "      <th>kral</th>\n",
       "      <th>kral_pl</th>\n",
       "      <th>third_read_pl</th>\n",
       "      <th>third_read_ss</th>\n",
       "      <th>third_math_pl</th>\n",
       "      <th>third_math_ss</th>\n",
       "      <th>...</th>\n",
       "      <th>ogt_read_pl</th>\n",
       "      <th>ogt_read_ss</th>\n",
       "      <th>ogt_math_pl</th>\n",
       "      <th>ogt_math_ss</th>\n",
       "      <th>ogt_write_pl</th>\n",
       "      <th>ogt_write_ss</th>\n",
       "      <th>ogt_science_pl</th>\n",
       "      <th>ogt_science_ss</th>\n",
       "      <th>ogt_socstudies_pl</th>\n",
       "      <th>ogt_socstudies_ss</th>\n",
       "    </tr>\n",
       "  </thead>\n",
       "  <tbody>\n",
       "    <tr>\n",
       "      <th>0</th>\n",
       "      <td>30015</td>\n",
       "      <td>2006-12-01</td>\n",
       "      <td>None</td>\n",
       "      <td>None</td>\n",
       "      <td>11.0</td>\n",
       "      <td>Intense</td>\n",
       "      <td>None</td>\n",
       "      <td>None</td>\n",
       "      <td>None</td>\n",
       "      <td>None</td>\n",
       "      <td>...</td>\n",
       "      <td>None</td>\n",
       "      <td>None</td>\n",
       "      <td>None</td>\n",
       "      <td>None</td>\n",
       "      <td>None</td>\n",
       "      <td>None</td>\n",
       "      <td>None</td>\n",
       "      <td>None</td>\n",
       "      <td>None</td>\n",
       "      <td>None</td>\n",
       "    </tr>\n",
       "    <tr>\n",
       "      <th>1</th>\n",
       "      <td>7520</td>\n",
       "      <td>2006-12-01</td>\n",
       "      <td>None</td>\n",
       "      <td>None</td>\n",
       "      <td>29.0</td>\n",
       "      <td>Enriched</td>\n",
       "      <td>None</td>\n",
       "      <td>None</td>\n",
       "      <td>None</td>\n",
       "      <td>None</td>\n",
       "      <td>...</td>\n",
       "      <td>None</td>\n",
       "      <td>None</td>\n",
       "      <td>None</td>\n",
       "      <td>None</td>\n",
       "      <td>None</td>\n",
       "      <td>None</td>\n",
       "      <td>None</td>\n",
       "      <td>None</td>\n",
       "      <td>None</td>\n",
       "      <td>None</td>\n",
       "    </tr>\n",
       "    <tr>\n",
       "      <th>2</th>\n",
       "      <td>48681</td>\n",
       "      <td>2007-08-01</td>\n",
       "      <td>None</td>\n",
       "      <td>None</td>\n",
       "      <td>NaN</td>\n",
       "      <td>None</td>\n",
       "      <td>None</td>\n",
       "      <td>None</td>\n",
       "      <td>None</td>\n",
       "      <td>None</td>\n",
       "      <td>...</td>\n",
       "      <td>None</td>\n",
       "      <td>None</td>\n",
       "      <td>None</td>\n",
       "      <td>None</td>\n",
       "      <td>None</td>\n",
       "      <td>None</td>\n",
       "      <td>None</td>\n",
       "      <td>None</td>\n",
       "      <td>None</td>\n",
       "      <td>None</td>\n",
       "    </tr>\n",
       "    <tr>\n",
       "      <th>3</th>\n",
       "      <td>62503</td>\n",
       "      <td>1995-04-01</td>\n",
       "      <td>None</td>\n",
       "      <td>None</td>\n",
       "      <td>NaN</td>\n",
       "      <td>None</td>\n",
       "      <td>Basic</td>\n",
       "      <td>386</td>\n",
       "      <td>None</td>\n",
       "      <td>None</td>\n",
       "      <td>...</td>\n",
       "      <td>None</td>\n",
       "      <td>None</td>\n",
       "      <td>None</td>\n",
       "      <td>None</td>\n",
       "      <td>None</td>\n",
       "      <td>None</td>\n",
       "      <td>None</td>\n",
       "      <td>None</td>\n",
       "      <td>None</td>\n",
       "      <td>None</td>\n",
       "    </tr>\n",
       "    <tr>\n",
       "      <th>4</th>\n",
       "      <td>59606</td>\n",
       "      <td>None</td>\n",
       "      <td>None</td>\n",
       "      <td>None</td>\n",
       "      <td>NaN</td>\n",
       "      <td>None</td>\n",
       "      <td>Proficient</td>\n",
       "      <td>412</td>\n",
       "      <td>None</td>\n",
       "      <td>None</td>\n",
       "      <td>...</td>\n",
       "      <td>None</td>\n",
       "      <td>None</td>\n",
       "      <td>None</td>\n",
       "      <td>None</td>\n",
       "      <td>None</td>\n",
       "      <td>None</td>\n",
       "      <td>None</td>\n",
       "      <td>None</td>\n",
       "      <td>None</td>\n",
       "      <td>None</td>\n",
       "    </tr>\n",
       "  </tbody>\n",
       "</table>\n",
       "<p>5 rows × 62 columns</p>\n",
       "</div>"
      ],
      "text/plain": [
       "   student_lookup         dob gender ethnicity  kral   kral_pl third_read_pl  \\\n",
       "0           30015  2006-12-01   None      None  11.0   Intense          None   \n",
       "1            7520  2006-12-01   None      None  29.0  Enriched          None   \n",
       "2           48681  2007-08-01   None      None   NaN      None          None   \n",
       "3           62503  1995-04-01   None      None   NaN      None         Basic   \n",
       "4           59606        None   None      None   NaN      None    Proficient   \n",
       "\n",
       "  third_read_ss third_math_pl third_math_ss  ... ogt_read_pl ogt_read_ss  \\\n",
       "0          None          None          None  ...        None        None   \n",
       "1          None          None          None  ...        None        None   \n",
       "2          None          None          None  ...        None        None   \n",
       "3           386          None          None  ...        None        None   \n",
       "4           412          None          None  ...        None        None   \n",
       "\n",
       "  ogt_math_pl ogt_math_ss ogt_write_pl ogt_write_ss ogt_science_pl  \\\n",
       "0        None        None         None         None           None   \n",
       "1        None        None         None         None           None   \n",
       "2        None        None         None         None           None   \n",
       "3        None        None         None         None           None   \n",
       "4        None        None         None         None           None   \n",
       "\n",
       "   ogt_science_ss ogt_socstudies_pl  ogt_socstudies_ss  \n",
       "0            None              None               None  \n",
       "1            None              None               None  \n",
       "2            None              None               None  \n",
       "3            None              None               None  \n",
       "4            None              None               None  \n",
       "\n",
       "[5 rows x 62 columns]"
      ]
     },
     "execution_count": 71,
     "metadata": {},
     "output_type": "execute_result"
    }
   ],
   "source": [
    "oaaogt.head()"
   ]
  },
  {
   "cell_type": "code",
   "execution_count": null,
   "metadata": {},
   "outputs": [],
   "source": []
  }
 ],
 "metadata": {
  "kernelspec": {
   "display_name": "Python 3",
   "language": "python",
   "name": "python3"
  },
  "language_info": {
   "codemirror_mode": {
    "name": "ipython",
    "version": 3
   },
   "file_extension": ".py",
   "mimetype": "text/x-python",
   "name": "python",
   "nbconvert_exporter": "python",
   "pygments_lexer": "ipython3",
   "version": "3.7.6"
  }
 },
 "nbformat": 4,
 "nbformat_minor": 4
}
