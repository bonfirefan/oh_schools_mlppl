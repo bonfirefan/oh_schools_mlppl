{
 "cells": [
  {
   "cell_type": "code",
   "execution_count": 1,
   "metadata": {},
   "outputs": [],
   "source": [
    "import pandas as pd\n",
    "from utils import download_data\n",
    "from data_preparation import data_preparation, train_val_test_split, find_sch_match\n",
    "from fuzzywuzzy import process\n",
    "from fuzzywuzzy import fuzz\n",
    "import re\n",
    "from models import logistic_regression, random_guess\n",
    "from evaluation import metric_auc, accuracy"
   ]
  },
  {
   "cell_type": "code",
   "execution_count": 2,
   "metadata": {},
   "outputs": [
    {
     "name": "stdout",
     "output_type": "stream",
     "text": [
      "Connected!\n",
      "\n"
     ]
    }
   ],
   "source": [
    "data = download_data(user='byfan', password='props urban aging vocally patio portside',\n",
    "                     tb_name='sketch.train_data_2')"
   ]
  },
  {
   "cell_type": "code",
   "execution_count": 3,
   "metadata": {},
   "outputs": [
    {
     "name": "stdout",
     "output_type": "stream",
     "text": [
      "Connected!\n",
      "\n"
     ]
    }
   ],
   "source": [
    "oh = download_data(user='byfan', password='props urban aging vocally patio portside',\n",
    "                     tb_name='sketch.ode_school')"
   ]
  },
  {
   "cell_type": "code",
   "execution_count": 4,
   "metadata": {},
   "outputs": [
    {
     "data": {
      "text/html": [
       "<div>\n",
       "<style scoped>\n",
       "    .dataframe tbody tr th:only-of-type {\n",
       "        vertical-align: middle;\n",
       "    }\n",
       "\n",
       "    .dataframe tbody tr th {\n",
       "        vertical-align: top;\n",
       "    }\n",
       "\n",
       "    .dataframe thead th {\n",
       "        text-align: right;\n",
       "    }\n",
       "</style>\n",
       "<table border=\"1\" class=\"dataframe\">\n",
       "  <thead>\n",
       "    <tr style=\"text-align: right;\">\n",
       "      <th></th>\n",
       "      <th>student_lookup</th>\n",
       "      <th>grade</th>\n",
       "      <th>school_year</th>\n",
       "      <th>days_absent</th>\n",
       "      <th>graduation_date</th>\n",
       "      <th>discipline_incidents</th>\n",
       "      <th>withdraw_reason</th>\n",
       "      <th>district_withdraw_date</th>\n",
       "      <th>ethnicity</th>\n",
       "      <th>district</th>\n",
       "      <th>school_name</th>\n",
       "      <th>intervention_count</th>\n",
       "      <th>eighth_math_ss</th>\n",
       "      <th>eighth_read_ss</th>\n",
       "      <th>gpa</th>\n",
       "      <th>new_gpa</th>\n",
       "    </tr>\n",
       "  </thead>\n",
       "  <tbody>\n",
       "    <tr>\n",
       "      <th>0</th>\n",
       "      <td>8.0</td>\n",
       "      <td>3.0</td>\n",
       "      <td>2015</td>\n",
       "      <td>5.0</td>\n",
       "      <td>None</td>\n",
       "      <td>1.0</td>\n",
       "      <td>did not withdraw</td>\n",
       "      <td>None</td>\n",
       "      <td>W</td>\n",
       "      <td>Maysville</td>\n",
       "      <td>Maysville Elementary School</td>\n",
       "      <td>1</td>\n",
       "      <td>None</td>\n",
       "      <td>None</td>\n",
       "      <td>NaN</td>\n",
       "      <td>NaN</td>\n",
       "    </tr>\n",
       "    <tr>\n",
       "      <th>1</th>\n",
       "      <td>8.0</td>\n",
       "      <td>3.0</td>\n",
       "      <td>2015</td>\n",
       "      <td>5.0</td>\n",
       "      <td>None</td>\n",
       "      <td>1.0</td>\n",
       "      <td>did not withdraw</td>\n",
       "      <td>None</td>\n",
       "      <td>W</td>\n",
       "      <td>Maysville</td>\n",
       "      <td>Maysville Elementary School</td>\n",
       "      <td>1</td>\n",
       "      <td>None</td>\n",
       "      <td>None</td>\n",
       "      <td>NaN</td>\n",
       "      <td>NaN</td>\n",
       "    </tr>\n",
       "  </tbody>\n",
       "</table>\n",
       "</div>"
      ],
      "text/plain": [
       "   student_lookup  grade  school_year  days_absent graduation_date  \\\n",
       "0             8.0    3.0         2015          5.0            None   \n",
       "1             8.0    3.0         2015          5.0            None   \n",
       "\n",
       "   discipline_incidents   withdraw_reason district_withdraw_date ethnicity  \\\n",
       "0                   1.0  did not withdraw                   None         W   \n",
       "1                   1.0  did not withdraw                   None         W   \n",
       "\n",
       "    district                  school_name  intervention_count eighth_math_ss  \\\n",
       "0  Maysville  Maysville Elementary School                   1           None   \n",
       "1  Maysville  Maysville Elementary School                   1           None   \n",
       "\n",
       "  eighth_read_ss  gpa  new_gpa  \n",
       "0           None  NaN      NaN  \n",
       "1           None  NaN      NaN  "
      ]
     },
     "execution_count": 4,
     "metadata": {},
     "output_type": "execute_result"
    }
   ],
   "source": [
    "data.head(2)"
   ]
  },
  {
   "cell_type": "code",
   "execution_count": 5,
   "metadata": {},
   "outputs": [
    {
     "data": {
      "text/html": [
       "<div>\n",
       "<style scoped>\n",
       "    .dataframe tbody tr th:only-of-type {\n",
       "        vertical-align: middle;\n",
       "    }\n",
       "\n",
       "    .dataframe tbody tr th {\n",
       "        vertical-align: top;\n",
       "    }\n",
       "\n",
       "    .dataframe thead th {\n",
       "        text-align: right;\n",
       "    }\n",
       "</style>\n",
       "<table border=\"1\" class=\"dataframe\">\n",
       "  <thead>\n",
       "    <tr style=\"text-align: right;\">\n",
       "      <th></th>\n",
       "      <th>irn</th>\n",
       "      <th>district_name</th>\n",
       "      <th>county</th>\n",
       "      <th>typology_2013</th>\n",
       "      <th>enrollment</th>\n",
       "      <th>median_income</th>\n",
       "      <th>student_poverty</th>\n",
       "      <th>pct_minority</th>\n",
       "      <th>typology</th>\n",
       "      <th>schtype</th>\n",
       "      <th>...</th>\n",
       "      <th>fed_rev_per_pupil</th>\n",
       "      <th>fed_rev_as_pct_of_tot</th>\n",
       "      <th>tot_rev_per_pupil</th>\n",
       "      <th>formula_funding_per_pupil</th>\n",
       "      <th>formula_funding_as_pct_of_income_tax_liability</th>\n",
       "      <th>salaries_as_pct_of_operating_expend</th>\n",
       "      <th>fringe_benefits_as_pct_of_operating_expend</th>\n",
       "      <th>purchased_services_as_pct_of_operating_expend</th>\n",
       "      <th>suppliesmaterials_as_pct_of_operating_expend</th>\n",
       "      <th>other_expenses_as_pct_of_operating_expend</th>\n",
       "    </tr>\n",
       "  </thead>\n",
       "  <tbody>\n",
       "    <tr>\n",
       "      <th>0</th>\n",
       "      <td>45187</td>\n",
       "      <td>Ada Exempted Village</td>\n",
       "      <td>Hardin</td>\n",
       "      <td>3</td>\n",
       "      <td>941</td>\n",
       "      <td>31392</td>\n",
       "      <td>0.33</td>\n",
       "      <td>0.05</td>\n",
       "      <td>3 - Small Town - Low Student Poverty</td>\n",
       "      <td>3.0</td>\n",
       "      <td>...</td>\n",
       "      <td>617.81</td>\n",
       "      <td>0.05</td>\n",
       "      <td>13232.91</td>\n",
       "      <td>6167.77</td>\n",
       "      <td>2.02</td>\n",
       "      <td>0.55</td>\n",
       "      <td>0.22</td>\n",
       "      <td>0.15</td>\n",
       "      <td>0.02</td>\n",
       "      <td>0.05</td>\n",
       "    </tr>\n",
       "    <tr>\n",
       "      <th>1</th>\n",
       "      <td>49494</td>\n",
       "      <td>Adena Local</td>\n",
       "      <td>Ross</td>\n",
       "      <td>2</td>\n",
       "      <td>1230</td>\n",
       "      <td>31808</td>\n",
       "      <td>0.37</td>\n",
       "      <td>0.07</td>\n",
       "      <td>2 - Rural - Average Student Poverty</td>\n",
       "      <td>2.0</td>\n",
       "      <td>...</td>\n",
       "      <td>750.03</td>\n",
       "      <td>0.06</td>\n",
       "      <td>11805.23</td>\n",
       "      <td>6803.27</td>\n",
       "      <td>2.79</td>\n",
       "      <td>0.52</td>\n",
       "      <td>0.24</td>\n",
       "      <td>0.19</td>\n",
       "      <td>0.04</td>\n",
       "      <td>0.01</td>\n",
       "    </tr>\n",
       "  </tbody>\n",
       "</table>\n",
       "<p>2 rows × 76 columns</p>\n",
       "</div>"
      ],
      "text/plain": [
       "     irn         district_name  county  typology_2013  enrollment  \\\n",
       "0  45187  Ada Exempted Village  Hardin              3         941   \n",
       "1  49494           Adena Local    Ross              2        1230   \n",
       "\n",
       "   median_income  student_poverty  pct_minority  \\\n",
       "0          31392             0.33          0.05   \n",
       "1          31808             0.37          0.07   \n",
       "\n",
       "                               typology  schtype  ... fed_rev_per_pupil  \\\n",
       "0  3 - Small Town - Low Student Poverty      3.0  ...            617.81   \n",
       "1   2 - Rural - Average Student Poverty      2.0  ...            750.03   \n",
       "\n",
       "  fed_rev_as_pct_of_tot tot_rev_per_pupil formula_funding_per_pupil  \\\n",
       "0                  0.05          13232.91                   6167.77   \n",
       "1                  0.06          11805.23                   6803.27   \n",
       "\n",
       "   formula_funding_as_pct_of_income_tax_liability  \\\n",
       "0                                            2.02   \n",
       "1                                            2.79   \n",
       "\n",
       "   salaries_as_pct_of_operating_expend  \\\n",
       "0                                 0.55   \n",
       "1                                 0.52   \n",
       "\n",
       "   fringe_benefits_as_pct_of_operating_expend  \\\n",
       "0                                        0.22   \n",
       "1                                        0.24   \n",
       "\n",
       "   purchased_services_as_pct_of_operating_expend  \\\n",
       "0                                           0.15   \n",
       "1                                           0.19   \n",
       "\n",
       "   suppliesmaterials_as_pct_of_operating_expend  \\\n",
       "0                                          0.02   \n",
       "1                                          0.04   \n",
       "\n",
       "   other_expenses_as_pct_of_operating_expend  \n",
       "0                                       0.05  \n",
       "1                                       0.01  \n",
       "\n",
       "[2 rows x 76 columns]"
      ]
     },
     "execution_count": 5,
     "metadata": {},
     "output_type": "execute_result"
    }
   ],
   "source": [
    "oh.head(2)"
   ]
  },
  {
   "cell_type": "code",
   "execution_count": 6,
   "metadata": {},
   "outputs": [],
   "source": [
    "df = data\n",
    "\n",
    "# Variables in 8th grade\n",
    "df.loc[df['grade']==8,'gpa_8'] = df['new_gpa']\n",
    "df.loc[df['grade']==8,'abs_8'] = df['days_absent']\n",
    "df.loc[df['grade']==8,'int_8'] = df['intervention_count']\n",
    "\n",
    "\n",
    "# Cohort and aux grade_min and grade_max\n",
    "df.loc[df['grade']==9,'cohort'] = df['school_year']\n",
    "df['grade_max'] = df['grade']\n",
    "df['grade_min'] = df['grade']\n",
    "\n",
    "df['graduation_date'] = pd.to_datetime(df['graduation_date'])\n",
    "\n",
    "# Groupby each student\n",
    "df = df.groupby('student_lookup').agg({'ethnicity':'first', 'graduation_date':'max', 'district':'first',\n",
    "                                            'withdraw_reason':'last', 'gpa_8':'mean', 'abs_8':'mean', 'int_8':'mean',\n",
    "                                                   'grade_min':'min', 'grade_max':'max', 'cohort':'first'})\n",
    "\n",
    "df = find_sch_match(df, 'district', oh, 'district_name')\n"
   ]
  },
  {
   "cell_type": "code",
   "execution_count": 7,
   "metadata": {},
   "outputs": [
    {
     "data": {
      "text/html": [
       "<div>\n",
       "<style scoped>\n",
       "    .dataframe tbody tr th:only-of-type {\n",
       "        vertical-align: middle;\n",
       "    }\n",
       "\n",
       "    .dataframe tbody tr th {\n",
       "        vertical-align: top;\n",
       "    }\n",
       "\n",
       "    .dataframe thead th {\n",
       "        text-align: right;\n",
       "    }\n",
       "</style>\n",
       "<table border=\"1\" class=\"dataframe\">\n",
       "  <thead>\n",
       "    <tr style=\"text-align: right;\">\n",
       "      <th></th>\n",
       "      <th>ethnicity</th>\n",
       "      <th>graduation_date</th>\n",
       "      <th>withdraw_reason</th>\n",
       "      <th>gpa_8</th>\n",
       "      <th>abs_8</th>\n",
       "      <th>int_8</th>\n",
       "      <th>grade_min</th>\n",
       "      <th>grade_max</th>\n",
       "      <th>cohort</th>\n",
       "      <th>ode_distr</th>\n",
       "      <th>...</th>\n",
       "      <th>fed_rev_per_pupil</th>\n",
       "      <th>fed_rev_as_pct_of_tot</th>\n",
       "      <th>tot_rev_per_pupil</th>\n",
       "      <th>formula_funding_per_pupil</th>\n",
       "      <th>formula_funding_as_pct_of_income_tax_liability</th>\n",
       "      <th>salaries_as_pct_of_operating_expend</th>\n",
       "      <th>fringe_benefits_as_pct_of_operating_expend</th>\n",
       "      <th>purchased_services_as_pct_of_operating_expend</th>\n",
       "      <th>suppliesmaterials_as_pct_of_operating_expend</th>\n",
       "      <th>other_expenses_as_pct_of_operating_expend</th>\n",
       "    </tr>\n",
       "  </thead>\n",
       "  <tbody>\n",
       "    <tr>\n",
       "      <th>0</th>\n",
       "      <td>W</td>\n",
       "      <td>NaT</td>\n",
       "      <td>did not withdraw</td>\n",
       "      <td>NaN</td>\n",
       "      <td>NaN</td>\n",
       "      <td>NaN</td>\n",
       "      <td>0.0</td>\n",
       "      <td>3.0</td>\n",
       "      <td>NaN</td>\n",
       "      <td>River View Local</td>\n",
       "      <td>...</td>\n",
       "      <td>850.21</td>\n",
       "      <td>0.07</td>\n",
       "      <td>12035.66</td>\n",
       "      <td>4159.51</td>\n",
       "      <td>1.54</td>\n",
       "      <td>0.52</td>\n",
       "      <td>0.26</td>\n",
       "      <td>0.17</td>\n",
       "      <td>0.03</td>\n",
       "      <td>0.02</td>\n",
       "    </tr>\n",
       "    <tr>\n",
       "      <th>1</th>\n",
       "      <td>W</td>\n",
       "      <td>NaT</td>\n",
       "      <td>transferred - in state</td>\n",
       "      <td>NaN</td>\n",
       "      <td>NaN</td>\n",
       "      <td>NaN</td>\n",
       "      <td>3.0</td>\n",
       "      <td>3.0</td>\n",
       "      <td>NaN</td>\n",
       "      <td>Maysville Local</td>\n",
       "      <td>...</td>\n",
       "      <td>1123.24</td>\n",
       "      <td>0.10</td>\n",
       "      <td>11040.47</td>\n",
       "      <td>8336.30</td>\n",
       "      <td>3.41</td>\n",
       "      <td>0.51</td>\n",
       "      <td>0.23</td>\n",
       "      <td>0.23</td>\n",
       "      <td>0.03</td>\n",
       "      <td>0.01</td>\n",
       "    </tr>\n",
       "  </tbody>\n",
       "</table>\n",
       "<p>2 rows × 84 columns</p>\n",
       "</div>"
      ],
      "text/plain": [
       "  ethnicity graduation_date         withdraw_reason  gpa_8  abs_8  int_8  \\\n",
       "0         W             NaT        did not withdraw    NaN    NaN    NaN   \n",
       "1         W             NaT  transferred - in state    NaN    NaN    NaN   \n",
       "\n",
       "   grade_min  grade_max  cohort         ode_distr  ... fed_rev_per_pupil  \\\n",
       "0        0.0        3.0     NaN  River View Local  ...            850.21   \n",
       "1        3.0        3.0     NaN   Maysville Local  ...           1123.24   \n",
       "\n",
       "  fed_rev_as_pct_of_tot tot_rev_per_pupil  formula_funding_per_pupil  \\\n",
       "0                  0.07          12035.66                    4159.51   \n",
       "1                  0.10          11040.47                    8336.30   \n",
       "\n",
       "   formula_funding_as_pct_of_income_tax_liability  \\\n",
       "0                                            1.54   \n",
       "1                                            3.41   \n",
       "\n",
       "   salaries_as_pct_of_operating_expend  \\\n",
       "0                                 0.52   \n",
       "1                                 0.51   \n",
       "\n",
       "   fringe_benefits_as_pct_of_operating_expend  \\\n",
       "0                                        0.26   \n",
       "1                                        0.23   \n",
       "\n",
       "   purchased_services_as_pct_of_operating_expend  \\\n",
       "0                                           0.17   \n",
       "1                                           0.23   \n",
       "\n",
       "  suppliesmaterials_as_pct_of_operating_expend  \\\n",
       "0                                         0.03   \n",
       "1                                         0.03   \n",
       "\n",
       "   other_expenses_as_pct_of_operating_expend  \n",
       "0                                       0.02  \n",
       "1                                       0.01  \n",
       "\n",
       "[2 rows x 84 columns]"
      ]
     },
     "execution_count": 7,
     "metadata": {},
     "output_type": "execute_result"
    }
   ],
   "source": [
    "df.head(2)"
   ]
  },
  {
   "cell_type": "code",
   "execution_count": 8,
   "metadata": {},
   "outputs": [
    {
     "name": "stdout",
     "output_type": "stream",
     "text": [
      "gpa_8                                            float64\n",
      "abs_8                                            float64\n",
      "int_8                                            float64\n",
      "cohort                                           float64\n",
      "A                                                  uint8\n",
      "                                                  ...   \n",
      "fringe_benefits_as_pct_of_operating_expend       float64\n",
      "purchased_services_as_pct_of_operating_expend    float64\n",
      "suppliesmaterials_as_pct_of_operating_expend     float64\n",
      "other_expenses_as_pct_of_operating_expend        float64\n",
      "graduated                                        float64\n",
      "Length: 86, dtype: object\n"
     ]
    }
   ],
   "source": [
    "data_final = data_preparation(data, oh, args=1)"
   ]
  },
  {
   "cell_type": "code",
   "execution_count": 9,
   "metadata": {},
   "outputs": [
    {
     "data": {
      "text/plain": [
       "Index(['gpa_8', 'abs_8', 'int_8', 'cohort', 'A', 'B', 'H', 'I', 'M', 'W',\n",
       "       'typology_2013', 'enrollment', 'median_income', 'student_poverty',\n",
       "       'pct_minority', 'schtype', 'square_mileage', 'pupil_density',\n",
       "       'tot_average_daily_membership', 'tot_yearend_enrollment',\n",
       "       'asian_students_as_pct_of_tot',\n",
       "       'pacific_islander_students_as_pct_of_tot',\n",
       "       'black_students_as_pct_of_tot',\n",
       "       'american_indian_alaskan_native_students_as_pct_of_tot',\n",
       "       'hispanic_students_as_pct_of_tot', 'white_students_as_pct_of_tot',\n",
       "       'multiracial_students_as_pct_of_tot', 'pct_of_disadvantaged_students_',\n",
       "       'pct_of_students_with_limited_english_proficiency',\n",
       "       'pct_of_students_with_disability', 'classroom_teacher_average_salary',\n",
       "       'pct_of_teachers_with_04_years_experience',\n",
       "       'pct_of_teachers_with_410_years_experience',\n",
       "       'pct_of_teachers_with_10_years_experience',\n",
       "       'fte_number_of_administrators', 'administrator_average_salary',\n",
       "       'pupil_administrator_ratio', 'assessed_valuation_per_pupil_ty_ty17',\n",
       "       'resagr_real_valuation_as_pct_of_tot_ty17',\n",
       "       'all_other_real_valuation_as_pct_of_tot_ty17',\n",
       "       'public_utility_tangible_valuation_as_pct_of_tot_ty17',\n",
       "       'business_valuation_as_pct_of_tot_ty17',\n",
       "       'per_pupil_rev_raised_by_1_mill_of_property_tax_fy19',\n",
       "       'tot_property_tax_per_pupil_ty17', 'rollback_homestead_per_pupil',\n",
       "       'osfc_3year_valuation_per_pupil_fy19',\n",
       "       'ranking_of_osfc_valuation_per_pupil_fy19', 'median_income_ty16',\n",
       "       'average_income_ty16', 'current_operating_millage_incl_jvs_ty17',\n",
       "       'class_1_effective_millage_incl_jvs_ty17',\n",
       "       'class_2_effective_millage_incl_jvs_ty17', 'inside_millage',\n",
       "       'income_tax_per_pupil', 'local_tax_effort_index',\n",
       "       'administrative_expend_per_pupil',\n",
       "       'building_operation_expend_per_pupil', 'instructional_expend_per_pupil',\n",
       "       'pupil_support_expend_per_pupil', 'staff_support_expend_per_pupil',\n",
       "       'tot_expend_per_pupil', 'state_rev_per_pupil',\n",
       "       'state_rev_as_pct_of_tot', 'local_rev_per_pupil',\n",
       "       'local_rev_as_pct_of_tot', 'other_nontax_rev_per_pupil',\n",
       "       'othe_nontax_rev_as_pct_of_tot', 'fed_rev_per_pupil',\n",
       "       'fed_rev_as_pct_of_tot', 'tot_rev_per_pupil',\n",
       "       'formula_funding_per_pupil',\n",
       "       'formula_funding_as_pct_of_income_tax_liability',\n",
       "       'salaries_as_pct_of_operating_expend',\n",
       "       'fringe_benefits_as_pct_of_operating_expend',\n",
       "       'purchased_services_as_pct_of_operating_expend',\n",
       "       'suppliesmaterials_as_pct_of_operating_expend',\n",
       "       'other_expenses_as_pct_of_operating_expend', 'graduated'],\n",
       "      dtype='object')"
      ]
     },
     "execution_count": 9,
     "metadata": {},
     "output_type": "execute_result"
    }
   ],
   "source": [
    "data_final.columns"
   ]
  },
  {
   "cell_type": "code",
   "execution_count": 10,
   "metadata": {},
   "outputs": [],
   "source": [
    "train_data, test_data = train_val_test_split(data_final, 2007, 2011)"
   ]
  },
  {
   "cell_type": "code",
   "execution_count": 11,
   "metadata": {},
   "outputs": [
    {
     "name": "stdout",
     "output_type": "stream",
     "text": [
      "Model coefs:  [[ 1.09926417e-02 -7.60454259e-02  2.47645805e-03  5.82765599e-05\n",
      "  -7.55951493e-05 -2.23398213e-05  1.03168127e-05 -4.66225627e-04\n",
      "   4.89661689e-04 -4.91409672e-05 -2.15445765e-02  9.26583650e-03\n",
      "   2.25270786e-07 -5.77141880e-06 -4.91409672e-05 -2.02328152e-03\n",
      "  -1.34235681e-03 -3.28298321e-02 -1.23380274e-02  1.39846732e-07\n",
      "   0.00000000e+00 -1.62928519e-06  0.00000000e+00 -2.60532667e-07\n",
      "   5.02543631e-06 -4.31202038e-06  9.85591119e-06  3.60102603e-08\n",
      "  -1.26823906e-07 -8.15174811e-03 -6.76655421e-06  1.20017053e-06\n",
      "   4.53787827e-06 -1.89077366e-04 -7.57712299e-03 -1.13259281e-03\n",
      "   1.65509488e-03 -3.63292852e-06  1.80731108e-06  5.45147109e-07\n",
      "   2.53351461e-06  1.50784470e-06  3.68532177e-02 -1.10473482e-03\n",
      "  -3.29883762e-03  1.20012333e-03  3.48445663e-02 -1.25249857e-02\n",
      "   9.18386109e-05  1.97758816e-04  1.61094467e-04 -8.92627449e-05\n",
      "   0.00000000e+00  1.17343348e-06  8.23250994e-03 -9.20744020e-03\n",
      "   4.61827041e-02 -2.56587523e-03 -1.20616230e-02  3.05799876e-02\n",
      "  -3.77674763e-02 -2.79545710e-06  2.33668895e-02  1.21428586e-06\n",
      "   1.19962341e-02  5.65903462e-07 -4.71304649e-03  5.73218463e-08\n",
      "  -7.11761006e-03  2.09426128e-02  1.64593548e-05 -5.37388851e-07\n",
      "   4.05118050e-07  1.03922535e-07  1.84500942e-07 -1.22333771e-06]]\n"
     ]
    }
   ],
   "source": [
    "model = logistic_regression\n",
    "clf = model(train_data, args=[0.9])"
   ]
  },
  {
   "cell_type": "code",
   "execution_count": 35,
   "metadata": {},
   "outputs": [],
   "source": [
    "def confusion_matrix(clf, test_data):\n",
    "    X = test_data.drop(columns=['graduated']).values\n",
    "    y = test_data['graduated'].values\n",
    "\n",
    "    # Predictions\n",
    "    y_hat = clf.predict(X)\n",
    "    confusion_matrix = pd.crosstab(y, y_hat, rownames=['Actual'], colnames=['Predicted'], normalize=True)\n",
    "    print (confusion_matrix)\n",
    "    return(confusion_matrix)"
   ]
  },
  {
   "cell_type": "code",
   "execution_count": 14,
   "metadata": {},
   "outputs": [
    {
     "name": "stdout",
     "output_type": "stream",
     "text": [
      "Train accuracy:  0.856986301369863\n",
      "Test accuracy:  0.811409110259685\n"
     ]
    }
   ],
   "source": [
    "train_accuracy = accuracy(clf, train_data)\n",
    "print('Train accuracy: ', train_accuracy)\n",
    "test_accuracy = accuracy(clf, test_data)\n",
    "print('Test accuracy: ', test_accuracy)"
   ]
  },
  {
   "cell_type": "code",
   "execution_count": 16,
   "metadata": {},
   "outputs": [
    {
     "name": "stdout",
     "output_type": "stream",
     "text": [
      "AUC:  0.5234567901234567\n",
      "AUC: 0.5234567901234567\n"
     ]
    }
   ],
   "source": [
    "metric = metric_auc(clf, test_data)\n",
    "print('{}: {}'.format(\"AUC\", metric))"
   ]
  },
  {
   "cell_type": "code",
   "execution_count": 36,
   "metadata": {},
   "outputs": [
    {
     "name": "stdout",
     "output_type": "stream",
     "text": [
      "Predicted       0.0       1.0\n",
      "Actual                       \n",
      "0.0        0.014474  0.157940\n",
      "1.0        0.030651  0.796935\n"
     ]
    },
    {
     "data": {
      "image/png": "[encoded data removed]",
      "text/plain": [
       "<Figure size 432x288 with 2 Axes>"
      ]
     },
     "metadata": {
      "needs_background": "light"
     },
     "output_type": "display_data"
    }
   ],
   "source": [
    "import seaborn as sns\n",
    "import matplotlib.pyplot as plt\n",
    "cm = confusion_matrix(clf, test_data)\n",
    "sns.heatmap(cm, annot=True, fmt='.2f')\n",
    "plt.ylabel('Actual')\n",
    "plt.xlabel('Predicted')\n",
    "plt.show(block=False)"
   ]
  }
 ],
 "metadata": {
  "kernelspec": {
   "display_name": "Python 3",
   "language": "python",
   "name": "python3"
  },
  "language_info": {
   "codemirror_mode": {
    "name": "ipython",
    "version": 3
   },
   "file_extension": ".py",
   "mimetype": "text/x-python",
   "name": "python",
   "nbconvert_exporter": "python",
   "pygments_lexer": "ipython3",
   "version": "3.7.6"
  }
 },
 "nbformat": 4,
 "nbformat_minor": 4
}
