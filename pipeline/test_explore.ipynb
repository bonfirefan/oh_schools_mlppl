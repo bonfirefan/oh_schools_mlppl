{
 "cells": [
  {
   "cell_type": "code",
   "execution_count": 1,
   "metadata": {},
   "outputs": [],
   "source": [
    "import pandas as pd\n",
    "from utils import download_data\n",
    "from data_preparation import data_preparation, train_val_test_split\n",
    "from fuzzywuzzy import process\n",
    "from fuzzywuzzy import fuzz\n",
    "import re"
   ]
  },
  {
   "cell_type": "code",
   "execution_count": 2,
   "metadata": {},
   "outputs": [
    {
     "ename": "UnboundLocalError",
     "evalue": "local variable 'conn' referenced before assignment",
     "output_type": "error",
     "traceback": [
      "\u001b[1;31m---------------------------------------------------------------------------\u001b[0m",
      "\u001b[1;31mUnboundLocalError\u001b[0m                         Traceback (most recent call last)",
      "\u001b[1;32m<ipython-input-2-386506ac06ac>\u001b[0m in \u001b[0;36m<module>\u001b[1;34m\u001b[0m\n\u001b[0;32m      1\u001b[0m data = download_data(user='byfan', password='props urban aging vocally patio portside',\n\u001b[1;32m----> 2\u001b[1;33m                      tb_name='sketch.train_data_2')\n\u001b[0m",
      "\u001b[1;32m~\\Dropbox\\Lenovo Files\\CMU\\2020 Spring\\Machine Learning for Public Policy Lab\\repos\\oh_schools_mlppl\\pipeline\\utils.py\u001b[0m in \u001b[0;36mdownload_data\u001b[1;34m(user, password, tb_name, port)\u001b[0m\n\u001b[0;32m     18\u001b[0m     \u001b[1;32mexcept\u001b[0m\u001b[1;33m:\u001b[0m\u001b[1;33m\u001b[0m\u001b[1;33m\u001b[0m\u001b[0m\n\u001b[0;32m     19\u001b[0m         \u001b[1;32mpass\u001b[0m\u001b[1;33m\u001b[0m\u001b[1;33m\u001b[0m\u001b[0m\n\u001b[1;32m---> 20\u001b[1;33m     \u001b[0mconn\u001b[0m\u001b[1;33m.\u001b[0m\u001b[0mclose\u001b[0m\u001b[1;33m(\u001b[0m\u001b[1;33m)\u001b[0m\u001b[1;33m\u001b[0m\u001b[1;33m\u001b[0m\u001b[0m\n\u001b[0m\u001b[0;32m     21\u001b[0m     \u001b[1;32mreturn\u001b[0m \u001b[0mdata\u001b[0m\u001b[1;33m\u001b[0m\u001b[1;33m\u001b[0m\u001b[0m\n\u001b[0;32m     22\u001b[0m \u001b[1;33m\u001b[0m\u001b[0m\n",
      "\u001b[1;31mUnboundLocalError\u001b[0m: local variable 'conn' referenced before assignment"
     ]
    }
   ],
   "source": [
    "data = download_data(user='byfan', password='props urban aging vocally patio portside',\n",
    "                     tb_name='sketch.train_data_2')"
   ]
  },
  {
   "cell_type": "code",
   "execution_count": null,
   "metadata": {},
   "outputs": [],
   "source": [
    "oh = download_data(user='byfan', password='props urban aging vocally patio portside',\n",
    "                     tb_name='sketch.ode_school')"
   ]
  },
  {
   "cell_type": "code",
   "execution_count": null,
   "metadata": {},
   "outputs": [],
   "source": [
    "data.head(2)"
   ]
  },
  {
   "cell_type": "code",
   "execution_count": null,
   "metadata": {},
   "outputs": [],
   "source": [
    "oh.head(2)"
   ]
  },
  {
   "cell_type": "code",
   "execution_count": null,
   "metadata": {},
   "outputs": [],
   "source": [
    "def find_unique_name(dFrame, col):\n",
    "    return(set(dFrame[col]))"
   ]
  },
  {
   "cell_type": "code",
   "execution_count": null,
   "metadata": {},
   "outputs": [],
   "source": []
  },
  {
   "cell_type": "code",
   "execution_count": null,
   "metadata": {},
   "outputs": [],
   "source": [
    "def find_sch_match(dFrame, col, schoolDF, schcol):\n",
    "    '''\n",
    "    Takes a cleaned dataframe and appends school typology\n",
    "    By fuzzy matching on the name\n",
    "    '''\n",
    "    loc_list = set(dFrame[col])\n",
    "    schMatch = schMatcher(loc_list, schoolDF[schcol])\n",
    "    dataLoc = pd.merge(dFrame, schMatch,  how='left', left_on=[col], right_on = ['orig_distr'])\n",
    "    dataLoc = pd.merge(dataLoc, schoolDF,  how='left', left_on=['ode_distr'], right_on = [schcol])\n",
    "    dataLoc = dataLoc.drop(['district_x', 'district_y', 'orig_distr', 'labelScore'], axis=1)\n",
    "    #dataLoc = dataLoc.rename(columns={'COG': '{0}COG'.format(prefix), 'FIPS': '{0}FIPS'.format(prefix),\n",
    "    #                                  'LABEL': '{0}LABEL'.format(prefix),\n",
    "    #                                  'MUNICODE': '{0}MUNICODE'.format(prefix),\n",
    "    #                                  'OBJECTID': '{0}OBJECTID'.format(prefix)})\n",
    "    return(dataLoc)"
   ]
  },
  {
   "cell_type": "code",
   "execution_count": null,
   "metadata": {},
   "outputs": [],
   "source": [
    "schMatcher(loc_list, oh.district_name)"
   ]
  },
  {
   "cell_type": "code",
   "execution_count": null,
   "metadata": {},
   "outputs": [],
   "source": [
    "df_join = find_sch_match(data, 'district', oh, 'district_name')\n",
    "df_join.head(3)"
   ]
  },
  {
   "cell_type": "code",
   "execution_count": null,
   "metadata": {},
   "outputs": [],
   "source": [
    "import numpy as np\n",
    "import matplotlib.pyplot as plt\n",
    "import seaborn as sns\n",
    "# Compute the correlation matrix\n",
    "corr = df_join.corr()\n",
    "\n",
    "# Generate a mask for the upper triangle\n",
    "mask = np.triu(np.ones_like(corr, dtype=np.bool))\n",
    "\n",
    "# Set up the matplotlib figure\n",
    "f, ax = plt.subplots(figsize=(11, 9))\n",
    "\n",
    "# Generate a custom diverging colormap\n",
    "cmap = sns.diverging_palette(220, 10, as_cmap=True)\n",
    "\n",
    "# Draw the heatmap with the mask and correct aspect ratio\n",
    "sns.heatmap(corr, mask=mask, cmap=cmap, vmax=.3, center=0,\n",
    "            square=True, linewidths=.5, cbar_kws={\"shrink\": .5})"
   ]
  },
  {
   "cell_type": "code",
   "execution_count": null,
   "metadata": {},
   "outputs": [],
   "source": [
    "df = data\n",
    "\n",
    "    # Filter data to relevant students\n",
    "df = df[df['cohort'].notnull()]\n",
    "df = df[df['cohort']<=2012]\n",
    "\n",
    "    # Graduate variable\n",
    "data['graduated_time'] = data['graduation_date'].dt.year-data['cohort']\n",
    "df['graduated'] = df['graduated_time']<=4\n",
    "df.loc[df['withdraw_reason']=='transferred - in state', 'graduated'] = None\n",
    "df.loc[df['withdraw_reason']=='transferred - out of state', 'graduated'] = None\n",
    "df.loc[df['withdraw_reason']=='transferred - transferred - out of country', 'graduated'] = None\n",
    "df.loc[df['withdraw_reason']=='transferred - private', 'graduated'] = None\n",
    "df.loc[df['withdraw_reason']=='transferred - homeschool', 'graduated'] = None\n",
    "df.loc[df['withdraw_reason']=='withdrew - death', 'graduated'] = None\n",
    "df = df[df['graduated'].notnull()]"
   ]
  },
  {
   "cell_type": "code",
   "execution_count": null,
   "metadata": {},
   "outputs": [],
   "source": [
    "corr = df.corr()\n",
    "\n",
    "# Generate a mask for the upper triangle\n",
    "mask = np.triu(np.ones_like(corr, dtype=np.bool))\n",
    "\n",
    "# Set up the matplotlib figure\n",
    "f, ax = plt.subplots(figsize=(11, 9))\n",
    "\n",
    "# Generate a custom diverging colormap\n",
    "cmap = sns.diverging_palette(220, 10, as_cmap=True)\n",
    "\n",
    "# Draw the heatmap with the mask and correct aspect ratio\n",
    "sns.heatmap(corr, mask=mask, cmap=cmap, vmax=.3, center=0,\n",
    "            square=True, linewidths=.5, cbar_kws={\"shrink\": .5})"
   ]
  },
  {
   "cell_type": "code",
   "execution_count": null,
   "metadata": {},
   "outputs": [],
   "source": [
    "data_final = data_preparation(data, args=1)"
   ]
  },
  {
   "cell_type": "code",
   "execution_count": null,
   "metadata": {},
   "outputs": [],
   "source": [
    "data_final.head(10)"
   ]
  },
  {
   "cell_type": "code",
   "execution_count": null,
   "metadata": {},
   "outputs": [],
   "source": [
    "d = data_final.head(10)\n",
    "d.to_csv('extract.csv')"
   ]
  },
  {
   "cell_type": "code",
   "execution_count": null,
   "metadata": {},
   "outputs": [],
   "source": [
    "train_data, validation_data, test_data = train_val_test_split(data_final,2006,2011,2012)"
   ]
  },
  {
   "cell_type": "code",
   "execution_count": null,
   "metadata": {},
   "outputs": [],
   "source": []
  }
 ],
 "metadata": {
  "kernelspec": {
   "display_name": "Python 3",
   "language": "python",
   "name": "python3"
  },
  "language_info": {
   "codemirror_mode": {
    "name": "ipython",
    "version": 3
   },
   "file_extension": ".py",
   "mimetype": "text/x-python",
   "name": "python",
   "nbconvert_exporter": "python",
   "pygments_lexer": "ipython3",
   "version": "3.7.6"
  }
 },
 "nbformat": 4,
 "nbformat_minor": 4
}
